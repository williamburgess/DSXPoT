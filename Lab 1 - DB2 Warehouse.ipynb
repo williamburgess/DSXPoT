{
    "nbformat": 4, 
    "nbformat_minor": 1, 
    "metadata": {
        "language_info": {
            "nbconvert_exporter": "python", 
            "version": "3.5.2", 
            "file_extension": ".py", 
            "name": "python", 
            "pygments_lexer": "ipython3", 
            "mimetype": "text/x-python", 
            "codemirror_mode": {
                "name": "ipython", 
                "version": 3
            }
        }, 
        "kernelspec": {
            "language": "python", 
            "name": "python3-spark21", 
            "display_name": "Python 3.5 (Experimental) with Spark 2.1"
        }
    }, 
    "cells": [
        {
            "source": "\n# Access DB2 Warehouse on Cloud and explore the data with Python\n\nThis notebook shows how to access a DB2 data warehouse or DB2 database when using Python. The examples use a DB2 warehouse, but the instructions apply to both DB2 Warehouse and DB2.\n\n\n\n## Table of contents\n\n1. [Info](#Info)\n1. [Create Version](#Version)\n1. [Setup](#Setup) \n1. [Import the *ibmdbpy* Python library](#Import-the-ibmdbpy-Python-library)\n1. [Insert the database connection credentials](#Insert-the-database-connection-credentials)\n1. [Create the database connection](#Create-the-database-connection)\n1. [Use dataframe to read and manipulate tables](#Use-dataframe-to-read-and-manipulate-tables)\n1. [Use SQL](#Use-SQL)\n1. [Explore the trafficking data](#Explore-the-trafficking-data)\n1. [Close the database connection](#Close-the-database-connection)\n1. [Share the notebook](#Share)\n1. [Save to GitHub](#GitHub)\n1. [Help](#Help)\n1. [Summary](#Summary)\n\n<a id=\"Info\"></a>\n## Info\nSelect the Info icon to display general information about the notebook. <br>\n<img alt=\"IBM Bluemix.Get started now\" src=\"https://raw.githubusercontent.com/jpatter/DSX/master/Lab-1/images/info-button.png\" ><br>\nYou can change the notebook name or add a description here.   You can also flag that the notebook can run with your privileges (Trusted Notebook).   If you run all cells of the notebook it is also considered trusted.\n<img alt=\"IBM Bluemix.Get started now\" src=\"https://raw.githubusercontent.com/jpatter/DSX/master/Lab-1/images/Info.PNG\" >\n\n<a id=\"Version\"></a>\n## Create Version \n\nSave a version of the notebook by selecting File > Save Version \n<img alt=\"IBM Bluemix.Get started now\" src=\"https://raw.githubusercontent.com/jpatter/DSX/master/Lab-1/images/FileOptions.PNG\" > or by selecting the Versions icon. <img alt=\"IBM Bluemix.Get started now\" src=\"https://raw.githubusercontent.com/jpatter/DSX/master/Lab-1/images/versions-button.png\" ><br>\nYou can have up to ten (10) versions of a notebook.   Notebook versions are saved in a FIFO manner.\n\n<a id=\"Setup\"></a>\n## Setup\n\nBefore beginning you will need a *DB2 Warehouse on Cloud* instance. DB2 Warehouse is a fully managed cloud data warehouse, purpose-built for analytics. It offers massively parallel processing (MPP) scale and compatibility with a wide range of business intelligence (BI) tools.  \n\n1. __RIGHT-CLICK__ [this link](https://github.com/jpatter/DSX/raw/master/Lab-1/data/Female-human-trafficking.csv) and select __Save Link As...__ to save the `Female-human-trafficking.csv` file to your desktop.\n1. Download the [DB2 Warehouse setup instructions](https://github.com/jpatter/DSX/blob/master/Lab-1/DB2Warehouse_DSXPOT.pdf).  You need to download the PDF in order for the links to work.\n1. Open up the PDF file that you've just downloaded in the previous step and follow the instructions there to setup DB2 Warehouse, load the human trafficking data and create a DSX data connection.\n\n<a class=\"ibm-tooltip\" href=\"https://console.ng.bluemix.net/catalog/services/dashdb\" target=\"_blank\" title=\"\" id=\"ibm-tooltip-0\">\n<img alt=\"IBM Bluemix.Get started now\" src=\"https://raw.githubusercontent.com/jpatter/DSX/master/Lab-1/images/DB2Warehouse.png\" >\n</a>\n\n<a id=\"Import-the-ibmdbpy-Python-library\"></a>\n## Import the *ibmdbpy* Python library\n\nPython support for DB Warehouse and DB2 is provided by the [ibmdbpy Python library](https://pypi.python.org/pypi/ibmdbpy). Connecting to DB2 Warehouse or DB2 is also enabled by a DB2 driver, libdb2.so.  The ibmdbpy project provides a Python interface for data manipulation and access to in-database algorithms in IBM DB2 Warehouse and IBM DB2. It accelerates Python analytics by seamlessly pushing operations written in Python into the underlying database for execution, thereby benefitting from in-database performance-enhancing features, such as columnar storage and parallel processing.\n\n### Setup a *JDBC* connection\nThe JDBC Connection is based on a Java virtual machine. From the ibmdbpy library you can use JDBC to connect to a remote DB2 Warehouse/DB2 instance. To be able to use JDBC to connect, we need to import the *JayDeBeApi* package and we need to add the DB2 Warehouse/DB2 data connector jar file to the java class path.\n\nTo run a cell, click on the cell and click the run button in the toolbar or press __SHIFT-ENTER__.\n\nRun the following commands to install and load the `JayDeBeApi` package and the `ibmdbpy` library into your notebook:", 
            "metadata": {}, 
            "cell_type": "markdown"
        }, 
        {
            "execution_count": 1, 
            "source": "import jaydebeapi\nfrom ibmdbpy import IdaDataBase\nfrom ibmdbpy import IdaDataFrame", 
            "outputs": [], 
            "metadata": {}, 
            "cell_type": "code"
        }, 
        {
            "execution_count": 2, 
            "source": "import pixiedust", 
            "outputs": [
                {
                    "name": "stdout", 
                    "output_type": "stream", 
                    "text": "Pixiedust database opened successfully\n"
                }, 
                {
                    "data": {
                        "text/plain": "<IPython.core.display.HTML object>", 
                        "text/html": "\n        <div style=\"margin:10px\">\n            <a href=\"https://github.com/ibm-watson-data-lab/pixiedust\" target=\"_new\">\n                <img src=\"https://github.com/ibm-watson-data-lab/pixiedust/raw/master/docs/_static/pd_icon32.png\" style=\"float:left;margin-right:10px\"/>\n            </a>\n            <span>Pixiedust version upgraded from 1.0.10 to 1.1.2</span>\n        </div>\n        "
                    }, 
                    "output_type": "display_data", 
                    "metadata": {}
                }, 
                {
                    "data": {
                        "text/plain": "<IPython.core.display.HTML object>", 
                        "text/html": "<div>Warning: You are not running the latest version of PixieDust. Current is 1.1.2, Latest is 1.1.3</div>"
                    }, 
                    "output_type": "display_data", 
                    "metadata": {}
                }, 
                {
                    "data": {
                        "text/plain": "<IPython.core.display.HTML object>", 
                        "text/html": "\n                <div>Please copy and run the following command in a new cell to upgrade: <span style=\"background-color:#ececec;font-family:monospace;padding:0 5px\">!pip install --user --upgrade pixiedust</span></div>\n            "
                    }, 
                    "output_type": "display_data", 
                    "metadata": {}
                }, 
                {
                    "data": {
                        "text/plain": "<IPython.core.display.HTML object>", 
                        "text/html": "<div>Please restart kernel after upgrading.</div>"
                    }, 
                    "output_type": "display_data", 
                    "metadata": {}
                }
            ], 
            "metadata": {}, 
            "cell_type": "code"
        }, 
        {
            "execution_count": 3, 
            "source": "# connection jar for DB2 Warehouse on Cloud -- you may have to restart the kernel and re-run cells.   If you do, a warning will appear.\n# no longer needed -- comment out for now\n#pixiedust.installPackage(\"file:///usr/local/src/data-connectors-1.4.1/db2jcc4-10.5.0.6.jar\")", 
            "outputs": [], 
            "metadata": {}, 
            "cell_type": "code"
        }, 
        {
            "source": "<a id=\"Insert-the-database-connection-credentials\"></a>\n## Insert the database connection credentials\n\nClick on the cell below, then on the notebook toolbar, click the box of 1's and 0's, find your database connection and click the __Insert to code__ link under the connection name to have a `credentials_1` dictionary added to the notebook.\n\n<img alt=\"IBM Bluemix.Get started now\" src=\"https://raw.githubusercontent.com/jpatter/DSX/master/Lab-1/images/connections-button.png\" >\n\n__Note__: When this dictionary is inserted, it might have a different name than `credentials_1`.  If so change the dictionary name to `credentials_1` so that the rest of the notebook will work.\n\nConnecting to DB2 Warehouse requires the following information which are provided by the credentials dictionary inserted:\n* Database name \n* Host DNS name or IP address \n* Host port\n* Connection protocol\n* User ID\n* User password\n\nThe information `credentials_1` will be used to build a connection string in a subsequent step.", 
            "metadata": {}, 
            "cell_type": "markdown"
        }, 
        {
            "execution_count": 4, 
            "source": "# The code was removed by DSX for sharing.", 
            "outputs": [], 
            "metadata": {}, 
            "cell_type": "code"
        }, 
        {
            "source": "<a id=\"Create-the-database-connection\"></a>\n## Create the database connection\n\nThe following code snippet creates a connection string `connection_string`\nand uses the `connection_string` to create a database connection object:\n", 
            "metadata": {}, 
            "cell_type": "markdown"
        }, 
        {
            "execution_count": 5, 
            "source": "connection_string='DASHDB;Database={db};Hostname={hostname};Port={port};PROTOCOL=TCPIP;UID={username};PWD={password}'.format(**credentials_1)\nidadb = IdaDataBase(dsn=connection_string)", 
            "outputs": [], 
            "metadata": {}, 
            "cell_type": "code"
        }, 
        {
            "source": "<a id=\"Use-dataframe-to-read-and-manipulate-tables\"></a>\n## Use a dataframe to read and manipulate tables\n\nYou can now use the connection object `idadb` to query the database:", 
            "metadata": {}, 
            "cell_type": "markdown"
        }, 
        {
            "execution_count": 7, 
            "source": "df = idadb.show_tables(show_all = True)\ndf.head(10)", 
            "outputs": [
                {
                    "execution_count": 7, 
                    "data": {
                        "text/plain": "  TABSCHEMA                   TABNAME     OWNER TYPE\n0  DASH5716  FEMALE_HUMAN_TRAFFICKING  DASH5716    T\n1   GOSALES                    BRANCH  DB2INST1    T\n2   GOSALES           CONVERSION_RATE  DB2INST1    T\n3   GOSALES                   COUNTRY  DB2INST1    T\n4   GOSALES           CURRENCY_LOOKUP  DB2INST1    T\n5   GOSALES           EURO_CONVERSION  DB2INST1    T\n6   GOSALES          INVENTORY_LEVELS  DB2INST1    T\n7   GOSALES             ORDER_DETAILS  DB2INST1    T\n8   GOSALES              ORDER_HEADER  DB2INST1    T\n9   GOSALES              ORDER_METHOD  DB2INST1    T", 
                        "text/html": "<div>\n<table border=\"1\" class=\"dataframe\">\n  <thead>\n    <tr style=\"text-align: right;\">\n      <th></th>\n      <th>TABSCHEMA</th>\n      <th>TABNAME</th>\n      <th>OWNER</th>\n      <th>TYPE</th>\n    </tr>\n  </thead>\n  <tbody>\n    <tr>\n      <th>0</th>\n      <td>DASH5716</td>\n      <td>FEMALE_HUMAN_TRAFFICKING</td>\n      <td>DASH5716</td>\n      <td>T</td>\n    </tr>\n    <tr>\n      <th>1</th>\n      <td>GOSALES</td>\n      <td>BRANCH</td>\n      <td>DB2INST1</td>\n      <td>T</td>\n    </tr>\n    <tr>\n      <th>2</th>\n      <td>GOSALES</td>\n      <td>CONVERSION_RATE</td>\n      <td>DB2INST1</td>\n      <td>T</td>\n    </tr>\n    <tr>\n      <th>3</th>\n      <td>GOSALES</td>\n      <td>COUNTRY</td>\n      <td>DB2INST1</td>\n      <td>T</td>\n    </tr>\n    <tr>\n      <th>4</th>\n      <td>GOSALES</td>\n      <td>CURRENCY_LOOKUP</td>\n      <td>DB2INST1</td>\n      <td>T</td>\n    </tr>\n    <tr>\n      <th>5</th>\n      <td>GOSALES</td>\n      <td>EURO_CONVERSION</td>\n      <td>DB2INST1</td>\n      <td>T</td>\n    </tr>\n    <tr>\n      <th>6</th>\n      <td>GOSALES</td>\n      <td>INVENTORY_LEVELS</td>\n      <td>DB2INST1</td>\n      <td>T</td>\n    </tr>\n    <tr>\n      <th>7</th>\n      <td>GOSALES</td>\n      <td>ORDER_DETAILS</td>\n      <td>DB2INST1</td>\n      <td>T</td>\n    </tr>\n    <tr>\n      <th>8</th>\n      <td>GOSALES</td>\n      <td>ORDER_HEADER</td>\n      <td>DB2INST1</td>\n      <td>T</td>\n    </tr>\n    <tr>\n      <th>9</th>\n      <td>GOSALES</td>\n      <td>ORDER_METHOD</td>\n      <td>DB2INST1</td>\n      <td>T</td>\n    </tr>\n  </tbody>\n</table>\n</div>"
                    }, 
                    "output_type": "execute_result", 
                    "metadata": {}
                }
            ], 
            "metadata": {}, 
            "cell_type": "code"
        }, 
        {
            "execution_count": 8, 
            "source": "idadb.exists_table_or_view('GOSALESDW.EMP_EXPENSE_FACT')", 
            "outputs": [
                {
                    "execution_count": 8, 
                    "data": {
                        "text/plain": "True"
                    }, 
                    "output_type": "execute_result", 
                    "metadata": {}
                }
            ], 
            "metadata": {}, 
            "cell_type": "code"
        }, 
        {
            "source": "Using our previously opened IdaDataBase instance named \u2018idadb\u2019, we can open one or several IdaDataFrame objects. They behave like pointers to remote tables.\n\nLet us open the *EMP_EXPENSE_FACT* data set, assuming it is stored in the database under the name \u2018GOSALESDW.EMP_EXPENSE_FACT\u2019. The following cell assigns the dataset to a IdaDataFrame.   IdaDataFrame copies the Pandas interface for DataFrame objects to ensure intuitive interaction for end-users.\n\nThe [Pandas data analysis library](http://pandas.pydata.org/) provides high-performance, easy-to-use data structures and data analysis tools for the Python programming language. Pandas allows easy processing and manipulation of tabular data, so it is a perfect fit for data extracted from relational databases.\n", 
            "metadata": {}, 
            "cell_type": "markdown"
        }, 
        {
            "execution_count": 9, 
            "source": "idadf = IdaDataFrame(idadb, 'GOSALESDW.EMP_EXPENSE_FACT')", 
            "outputs": [], 
            "metadata": {}, 
            "cell_type": "code"
        }, 
        {
            "source": "### Automatic creation of dataframes for tables<br>\n<div class=\"panel-group\" id=\"accordion-1\">\n  <div class=\"panel panel-default\">\n    <div class=\"panel-heading\">\n      <h4 class=\"panel-title\"><a data-toggle=\"collapse\" data-parent=\"#accordion-1\" href=\"#collapse1-1\">Optional Advanced:</a></h4>\n    </div>\n    <div id=\"collapse1-1\" class=\"panel-collapse collapse\">\n      <div class=\"panel-body\">\nTry adding the IdaDataFrame for the table in question from the Connections view -- do all the following commands still work?<br><br>\nTo add the dataframe, select the \"Find and Add Data\" icon (the one with 0 and 1s), select Connections, then \"Insert to code\" for the dataframe.    You will have to select the schema and table to use.\n\n      </div>\n    </div>\n  </div>\n</div>", 
            "metadata": {}, 
            "cell_type": "markdown"
        }, 
        {
            "execution_count": 10, 
            "source": "# The code was removed by DSX for sharing.", 
            "outputs": [
                {
                    "execution_count": 10, 
                    "data": {
                        "text/plain": "   INTERNAL_ID  VETTING_LEVEL DESCRIPTION  VETTING_LEVEL_PREDICTION  \\\n0          363            100          NA                        30   \n1          364             30          NA                        30   \n2          365             10          NA                        30   \n3          366             30          NA                        30   \n4          367            100          NA                       100   \n\n  ALGORITHM_NAME                     NAME GENDER  BIRTH_DATE BIRTH_COUNTRY  \\\n0  DECISION_TREE      Joyce Valerie Jones      F  1990-11-25         Ghana   \n1  DECISION_TREE  Veronica Breanna French      F  2001-05-26         Ghana   \n2  DECISION_TREE   Darlene Kendra Jackson      F  1978-09-01        Brazil   \n3  DECISION_TREE     Lisa Melissa Russell      F  1990-04-05        Brazil   \n4  DECISION_TREE            Caitlin Moore      F  1973-09-08         Ghana   \n\n  BIRTH_COUNTRY_CODE ... ARRIVAL_AIRPORT_COUNTRY_CODE ARRIVAL_AIRPORT_IATA  \\\n0                 GH ...                           US                  SAT   \n1                 GH ...                           US                  RDU   \n2                 BR ...                           US                  BLV   \n3                 BR ...                           US                  LCK   \n4                 GH ...                           US                  DLF   \n\n  ARRIVAL_AIRPORT_MUNICIPALITY  ARRIVAL_AIRPORT_REGION  \\\n0                  San Antonio                   US-TX   \n1               Raleigh/Durham                   US-NC   \n2                   Belleville                   US-IL   \n3                     Columbus                   US-OH   \n4                      Del Rio                   US-TX   \n\n  DEPARTURE_AIRPORT_COUNTRY_CODE DEPARTURE_AIRPORT_IATA  \\\n0                             FI                    HEL   \n1                             RU                    KJA   \n2                             IE                    ORK   \n3                             RU                    AER   \n4                             CZ                    PRG   \n\n  DEPARTURE_AIRPORT_MUNICIPALITY  DEPARTURE_AIRPORT_REGION  \\\n0                       Helsinki                     FI-ES   \n1                    Krasnoyarsk                    RU-KYA   \n2                           Cork                      IE-C   \n3                          Sochi                    RU-KDA   \n4                         Prague                     CZ-PR   \n\n                                   UUID AGE  \n0  13363a0f-1a5e-4f68-9e53-a9d52845f33b  26  \n1  8c5fb696-09bf-4071-810b-1eef79bcd19f  15  \n2  b0def062-af37-441d-b611-580befa71cc6  38  \n3  96d9f810-42ec-4851-bef8-8919661cb960  26  \n4  93adb238-ba71-4525-95fe-b111e41d57b4  43  \n\n[5 rows x 28 columns]", 
                        "text/html": "<div>\n<table border=\"1\" class=\"dataframe\">\n  <thead>\n    <tr style=\"text-align: right;\">\n      <th></th>\n      <th>INTERNAL_ID</th>\n      <th>VETTING_LEVEL</th>\n      <th>DESCRIPTION</th>\n      <th>VETTING_LEVEL_PREDICTION</th>\n      <th>ALGORITHM_NAME</th>\n      <th>NAME</th>\n      <th>GENDER</th>\n      <th>BIRTH_DATE</th>\n      <th>BIRTH_COUNTRY</th>\n      <th>BIRTH_COUNTRY_CODE</th>\n      <th>...</th>\n      <th>ARRIVAL_AIRPORT_COUNTRY_CODE</th>\n      <th>ARRIVAL_AIRPORT_IATA</th>\n      <th>ARRIVAL_AIRPORT_MUNICIPALITY</th>\n      <th>ARRIVAL_AIRPORT_REGION</th>\n      <th>DEPARTURE_AIRPORT_COUNTRY_CODE</th>\n      <th>DEPARTURE_AIRPORT_IATA</th>\n      <th>DEPARTURE_AIRPORT_MUNICIPALITY</th>\n      <th>DEPARTURE_AIRPORT_REGION</th>\n      <th>UUID</th>\n      <th>AGE</th>\n    </tr>\n  </thead>\n  <tbody>\n    <tr>\n      <th>0</th>\n      <td>363</td>\n      <td>100</td>\n      <td>NA</td>\n      <td>30</td>\n      <td>DECISION_TREE</td>\n      <td>Joyce Valerie Jones</td>\n      <td>F</td>\n      <td>1990-11-25</td>\n      <td>Ghana</td>\n      <td>GH</td>\n      <td>...</td>\n      <td>US</td>\n      <td>SAT</td>\n      <td>San Antonio</td>\n      <td>US-TX</td>\n      <td>FI</td>\n      <td>HEL</td>\n      <td>Helsinki</td>\n      <td>FI-ES</td>\n      <td>13363a0f-1a5e-4f68-9e53-a9d52845f33b</td>\n      <td>26</td>\n    </tr>\n    <tr>\n      <th>1</th>\n      <td>364</td>\n      <td>30</td>\n      <td>NA</td>\n      <td>30</td>\n      <td>DECISION_TREE</td>\n      <td>Veronica Breanna French</td>\n      <td>F</td>\n      <td>2001-05-26</td>\n      <td>Ghana</td>\n      <td>GH</td>\n      <td>...</td>\n      <td>US</td>\n      <td>RDU</td>\n      <td>Raleigh/Durham</td>\n      <td>US-NC</td>\n      <td>RU</td>\n      <td>KJA</td>\n      <td>Krasnoyarsk</td>\n      <td>RU-KYA</td>\n      <td>8c5fb696-09bf-4071-810b-1eef79bcd19f</td>\n      <td>15</td>\n    </tr>\n    <tr>\n      <th>2</th>\n      <td>365</td>\n      <td>10</td>\n      <td>NA</td>\n      <td>30</td>\n      <td>DECISION_TREE</td>\n      <td>Darlene Kendra Jackson</td>\n      <td>F</td>\n      <td>1978-09-01</td>\n      <td>Brazil</td>\n      <td>BR</td>\n      <td>...</td>\n      <td>US</td>\n      <td>BLV</td>\n      <td>Belleville</td>\n      <td>US-IL</td>\n      <td>IE</td>\n      <td>ORK</td>\n      <td>Cork</td>\n      <td>IE-C</td>\n      <td>b0def062-af37-441d-b611-580befa71cc6</td>\n      <td>38</td>\n    </tr>\n    <tr>\n      <th>3</th>\n      <td>366</td>\n      <td>30</td>\n      <td>NA</td>\n      <td>30</td>\n      <td>DECISION_TREE</td>\n      <td>Lisa Melissa Russell</td>\n      <td>F</td>\n      <td>1990-04-05</td>\n      <td>Brazil</td>\n      <td>BR</td>\n      <td>...</td>\n      <td>US</td>\n      <td>LCK</td>\n      <td>Columbus</td>\n      <td>US-OH</td>\n      <td>RU</td>\n      <td>AER</td>\n      <td>Sochi</td>\n      <td>RU-KDA</td>\n      <td>96d9f810-42ec-4851-bef8-8919661cb960</td>\n      <td>26</td>\n    </tr>\n    <tr>\n      <th>4</th>\n      <td>367</td>\n      <td>100</td>\n      <td>NA</td>\n      <td>100</td>\n      <td>DECISION_TREE</td>\n      <td>Caitlin Moore</td>\n      <td>F</td>\n      <td>1973-09-08</td>\n      <td>Ghana</td>\n      <td>GH</td>\n      <td>...</td>\n      <td>US</td>\n      <td>DLF</td>\n      <td>Del Rio</td>\n      <td>US-TX</td>\n      <td>CZ</td>\n      <td>PRG</td>\n      <td>Prague</td>\n      <td>CZ-PR</td>\n      <td>93adb238-ba71-4525-95fe-b111e41d57b4</td>\n      <td>43</td>\n    </tr>\n  </tbody>\n</table>\n<p>5 rows \u00d7 28 columns</p>\n</div>"
                    }, 
                    "output_type": "execute_result", 
                    "metadata": {}
                }
            ], 
            "metadata": {}, 
            "cell_type": "code"
        }, 
        {
            "execution_count": null, 
            "source": "idadf.dtypes", 
            "outputs": [], 
            "metadata": {
                "collapsed": true
            }, 
            "cell_type": "code"
        }, 
        {
            "source": "You can very easily explore the data in the IdaDataFrame by using built in functions.\n\nUse IdaDataFrame.head to get the first n records of your data set (default 5):", 
            "metadata": {}, 
            "cell_type": "markdown"
        }, 
        {
            "execution_count": 11, 
            "source": "idadf.head()", 
            "outputs": [
                {
                    "execution_count": 11, 
                    "data": {
                        "text/plain": "   INTERNAL_ID  VETTING_LEVEL DESCRIPTION  VETTING_LEVEL_PREDICTION  \\\n0          363            100          NA                        30   \n1          364             30          NA                        30   \n2          365             10          NA                        30   \n3          366             30          NA                        30   \n4          367            100          NA                       100   \n\n  ALGORITHM_NAME                     NAME GENDER  BIRTH_DATE BIRTH_COUNTRY  \\\n0  DECISION_TREE      Joyce Valerie Jones      F  1990-11-25         Ghana   \n1  DECISION_TREE  Veronica Breanna French      F  2001-05-26         Ghana   \n2  DECISION_TREE   Darlene Kendra Jackson      F  1978-09-01        Brazil   \n3  DECISION_TREE     Lisa Melissa Russell      F  1990-04-05        Brazil   \n4  DECISION_TREE            Caitlin Moore      F  1973-09-08         Ghana   \n\n  BIRTH_COUNTRY_CODE ... ARRIVAL_AIRPORT_COUNTRY_CODE ARRIVAL_AIRPORT_IATA  \\\n0                 GH ...                           US                  SAT   \n1                 GH ...                           US                  RDU   \n2                 BR ...                           US                  BLV   \n3                 BR ...                           US                  LCK   \n4                 GH ...                           US                  DLF   \n\n  ARRIVAL_AIRPORT_MUNICIPALITY  ARRIVAL_AIRPORT_REGION  \\\n0                  San Antonio                   US-TX   \n1               Raleigh/Durham                   US-NC   \n2                   Belleville                   US-IL   \n3                     Columbus                   US-OH   \n4                      Del Rio                   US-TX   \n\n  DEPARTURE_AIRPORT_COUNTRY_CODE DEPARTURE_AIRPORT_IATA  \\\n0                             FI                    HEL   \n1                             RU                    KJA   \n2                             IE                    ORK   \n3                             RU                    AER   \n4                             CZ                    PRG   \n\n  DEPARTURE_AIRPORT_MUNICIPALITY  DEPARTURE_AIRPORT_REGION  \\\n0                       Helsinki                     FI-ES   \n1                    Krasnoyarsk                    RU-KYA   \n2                           Cork                      IE-C   \n3                          Sochi                    RU-KDA   \n4                         Prague                     CZ-PR   \n\n                                   UUID AGE  \n0  13363a0f-1a5e-4f68-9e53-a9d52845f33b  26  \n1  8c5fb696-09bf-4071-810b-1eef79bcd19f  15  \n2  b0def062-af37-441d-b611-580befa71cc6  38  \n3  96d9f810-42ec-4851-bef8-8919661cb960  26  \n4  93adb238-ba71-4525-95fe-b111e41d57b4  43  \n\n[5 rows x 28 columns]", 
                        "text/html": "<div>\n<table border=\"1\" class=\"dataframe\">\n  <thead>\n    <tr style=\"text-align: right;\">\n      <th></th>\n      <th>INTERNAL_ID</th>\n      <th>VETTING_LEVEL</th>\n      <th>DESCRIPTION</th>\n      <th>VETTING_LEVEL_PREDICTION</th>\n      <th>ALGORITHM_NAME</th>\n      <th>NAME</th>\n      <th>GENDER</th>\n      <th>BIRTH_DATE</th>\n      <th>BIRTH_COUNTRY</th>\n      <th>BIRTH_COUNTRY_CODE</th>\n      <th>...</th>\n      <th>ARRIVAL_AIRPORT_COUNTRY_CODE</th>\n      <th>ARRIVAL_AIRPORT_IATA</th>\n      <th>ARRIVAL_AIRPORT_MUNICIPALITY</th>\n      <th>ARRIVAL_AIRPORT_REGION</th>\n      <th>DEPARTURE_AIRPORT_COUNTRY_CODE</th>\n      <th>DEPARTURE_AIRPORT_IATA</th>\n      <th>DEPARTURE_AIRPORT_MUNICIPALITY</th>\n      <th>DEPARTURE_AIRPORT_REGION</th>\n      <th>UUID</th>\n      <th>AGE</th>\n    </tr>\n  </thead>\n  <tbody>\n    <tr>\n      <th>0</th>\n      <td>363</td>\n      <td>100</td>\n      <td>NA</td>\n      <td>30</td>\n      <td>DECISION_TREE</td>\n      <td>Joyce Valerie Jones</td>\n      <td>F</td>\n      <td>1990-11-25</td>\n      <td>Ghana</td>\n      <td>GH</td>\n      <td>...</td>\n      <td>US</td>\n      <td>SAT</td>\n      <td>San Antonio</td>\n      <td>US-TX</td>\n      <td>FI</td>\n      <td>HEL</td>\n      <td>Helsinki</td>\n      <td>FI-ES</td>\n      <td>13363a0f-1a5e-4f68-9e53-a9d52845f33b</td>\n      <td>26</td>\n    </tr>\n    <tr>\n      <th>1</th>\n      <td>364</td>\n      <td>30</td>\n      <td>NA</td>\n      <td>30</td>\n      <td>DECISION_TREE</td>\n      <td>Veronica Breanna French</td>\n      <td>F</td>\n      <td>2001-05-26</td>\n      <td>Ghana</td>\n      <td>GH</td>\n      <td>...</td>\n      <td>US</td>\n      <td>RDU</td>\n      <td>Raleigh/Durham</td>\n      <td>US-NC</td>\n      <td>RU</td>\n      <td>KJA</td>\n      <td>Krasnoyarsk</td>\n      <td>RU-KYA</td>\n      <td>8c5fb696-09bf-4071-810b-1eef79bcd19f</td>\n      <td>15</td>\n    </tr>\n    <tr>\n      <th>2</th>\n      <td>365</td>\n      <td>10</td>\n      <td>NA</td>\n      <td>30</td>\n      <td>DECISION_TREE</td>\n      <td>Darlene Kendra Jackson</td>\n      <td>F</td>\n      <td>1978-09-01</td>\n      <td>Brazil</td>\n      <td>BR</td>\n      <td>...</td>\n      <td>US</td>\n      <td>BLV</td>\n      <td>Belleville</td>\n      <td>US-IL</td>\n      <td>IE</td>\n      <td>ORK</td>\n      <td>Cork</td>\n      <td>IE-C</td>\n      <td>b0def062-af37-441d-b611-580befa71cc6</td>\n      <td>38</td>\n    </tr>\n    <tr>\n      <th>3</th>\n      <td>366</td>\n      <td>30</td>\n      <td>NA</td>\n      <td>30</td>\n      <td>DECISION_TREE</td>\n      <td>Lisa Melissa Russell</td>\n      <td>F</td>\n      <td>1990-04-05</td>\n      <td>Brazil</td>\n      <td>BR</td>\n      <td>...</td>\n      <td>US</td>\n      <td>LCK</td>\n      <td>Columbus</td>\n      <td>US-OH</td>\n      <td>RU</td>\n      <td>AER</td>\n      <td>Sochi</td>\n      <td>RU-KDA</td>\n      <td>96d9f810-42ec-4851-bef8-8919661cb960</td>\n      <td>26</td>\n    </tr>\n    <tr>\n      <th>4</th>\n      <td>367</td>\n      <td>100</td>\n      <td>NA</td>\n      <td>100</td>\n      <td>DECISION_TREE</td>\n      <td>Caitlin Moore</td>\n      <td>F</td>\n      <td>1973-09-08</td>\n      <td>Ghana</td>\n      <td>GH</td>\n      <td>...</td>\n      <td>US</td>\n      <td>DLF</td>\n      <td>Del Rio</td>\n      <td>US-TX</td>\n      <td>CZ</td>\n      <td>PRG</td>\n      <td>Prague</td>\n      <td>CZ-PR</td>\n      <td>93adb238-ba71-4525-95fe-b111e41d57b4</td>\n      <td>43</td>\n    </tr>\n  </tbody>\n</table>\n<p>5 rows \u00d7 28 columns</p>\n</div>"
                    }, 
                    "output_type": "execute_result", 
                    "metadata": {}
                }
            ], 
            "metadata": {}, 
            "cell_type": "code"
        }, 
        {
            "source": "Use IdaDataFrame.tail to get the last n records of your data set (default 5) -- try running this multiple times:", 
            "metadata": {}, 
            "cell_type": "markdown"
        }, 
        {
            "execution_count": 14, 
            "source": "idadf.tail(10)", 
            "outputs": [
                {
                    "execution_count": 14, 
                    "data": {
                        "text/plain": "      INTERNAL_ID  VETTING_LEVEL DESCRIPTION  VETTING_LEVEL_PREDICTION  \\\n1075          353             10          NA                        30   \n1076          354             10          NA                        30   \n1077          355            100          NA                        30   \n1078          356            100          NA                        30   \n1079          357            100          NA                        30   \n1080          358            100          NA                        30   \n1081          359            100          NA                        30   \n1082          360             30          NA                        30   \n1083          361            100          NA                        30   \n1084          362             30          NA                        30   \n\n     ALGORITHM_NAME                  NAME GENDER  BIRTH_DATE BIRTH_COUNTRY  \\\n1075  DECISION_TREE          Rebecca Good      F  1974-03-02        Brazil   \n1076  DECISION_TREE          Jaccie Smith      F  2001-01-23         Ghana   \n1077  DECISION_TREE        Danny Peterson      F  1978-08-11         Ghana   \n1078  DECISION_TREE  Alyssa Amanda Miller      F  1993-07-23         Ghana   \n1079  DECISION_TREE           Linda Scott      F  1988-09-26         Ghana   \n1080  DECISION_TREE         Alyssa Thomas      F  1970-01-23         Ghana   \n1081  DECISION_TREE    Cathy Lori Griffin      F  1982-03-26         Ghana   \n1082  DECISION_TREE   Alisha Cheryl Watts      F  1997-10-11         Ghana   \n1083  DECISION_TREE         Ashley Rhodes      F  1982-06-27         Ghana   \n1084  DECISION_TREE   Danielle Ash Butler      F  1999-06-14         Ghana   \n\n     BIRTH_COUNTRY_CODE ... ARRIVAL_AIRPORT_COUNTRY_CODE ARRIVAL_AIRPORT_IATA  \\\n1075                 BR ...                           US                  STL   \n1076                 GH ...                           US                  MOB   \n1077                 GH ...                           US                  DSM   \n1078                 GH ...                           US                  ADW   \n1079                 GH ...                           US                  SRQ   \n1080                 GH ...                           US                  DSM   \n1081                 GH ...                           US                  MLU   \n1082                 GH ...                           US                  PHL   \n1083                 GH ...                           US                  SEA   \n1084                 GH ...                           US                  CRP   \n\n     ARRIVAL_AIRPORT_MUNICIPALITY  ARRIVAL_AIRPORT_REGION  \\\n1075                     St Louis                   US-MO   \n1076                       Mobile                   US-AL   \n1077                   Des Moines                   US-IA   \n1078                 Camp Springs                   US-MD   \n1079           Sarasota/Bradenton                   US-FL   \n1080                   Des Moines                   US-IA   \n1081                       Monroe                   US-LA   \n1082                 Philadelphia                   US-PA   \n1083                      Seattle                   US-WA   \n1084               Corpus Christi                   US-TX   \n\n     DEPARTURE_AIRPORT_COUNTRY_CODE DEPARTURE_AIRPORT_IATA  \\\n1075                             ZA                    JNB   \n1076                             KW                    KWI   \n1077                             BZ                    BZE   \n1078                             HU                    BUD   \n1079                             PE                    CUZ   \n1080                             ID                    CGK   \n1081                             MY                    KUL   \n1082                             OM                    MCT   \n1083                             NL                    MST   \n1084                             SE                    GOT   \n\n     DEPARTURE_AIRPORT_MUNICIPALITY  DEPARTURE_AIRPORT_REGION  \\\n1075                   Johannesburg                     ZA-GT   \n1076                    Kuwait City                     KW-FA   \n1077                    Belize City                     BZ-BZ   \n1078                       Budapest                     HU-PE   \n1079                          Cusco                    PE-CUS   \n1080                        Jakarta                     ID-BT   \n1081                   Kuala Lumpur                     MY-14   \n1082                         Muscat                     OM-MA   \n1083                     Maastricht                     NL-LI   \n1084                     Gothenburg                      SE-Q   \n\n                                      UUID AGE  \n1075  83444492-04a2-4a57-9a92-8793561207f3  43  \n1076  5c93ef2c-a887-45ce-b7b7-bb9cc33c2c20  16  \n1077  4c656f2f-ac98-4877-8e48-216d35ea9bca  38  \n1078  86314710-ad73-450b-96dc-0e917d44e987  23  \n1079  86b0b0b7-0ffa-4248-9ed0-be6fd8771379  28  \n1080  9c36dea4-fefe-4fba-8ca5-93d27920b9bc  47  \n1081  33b14a52-f238-449d-b56e-c4ce5a32cdc7  34  \n1082  a7785f42-9be3-4c92-a8a0-55cb960c092e  19  \n1083  3dbeb8ec-68e5-4db7-ba97-ed637d5a03d2  34  \n1084  d8ba6b49-bca2-4f15-81b9-f00f27fb987b  17  \n\n[10 rows x 28 columns]", 
                        "text/html": "<div>\n<table border=\"1\" class=\"dataframe\">\n  <thead>\n    <tr style=\"text-align: right;\">\n      <th></th>\n      <th>INTERNAL_ID</th>\n      <th>VETTING_LEVEL</th>\n      <th>DESCRIPTION</th>\n      <th>VETTING_LEVEL_PREDICTION</th>\n      <th>ALGORITHM_NAME</th>\n      <th>NAME</th>\n      <th>GENDER</th>\n      <th>BIRTH_DATE</th>\n      <th>BIRTH_COUNTRY</th>\n      <th>BIRTH_COUNTRY_CODE</th>\n      <th>...</th>\n      <th>ARRIVAL_AIRPORT_COUNTRY_CODE</th>\n      <th>ARRIVAL_AIRPORT_IATA</th>\n      <th>ARRIVAL_AIRPORT_MUNICIPALITY</th>\n      <th>ARRIVAL_AIRPORT_REGION</th>\n      <th>DEPARTURE_AIRPORT_COUNTRY_CODE</th>\n      <th>DEPARTURE_AIRPORT_IATA</th>\n      <th>DEPARTURE_AIRPORT_MUNICIPALITY</th>\n      <th>DEPARTURE_AIRPORT_REGION</th>\n      <th>UUID</th>\n      <th>AGE</th>\n    </tr>\n  </thead>\n  <tbody>\n    <tr>\n      <th>1075</th>\n      <td>353</td>\n      <td>10</td>\n      <td>NA</td>\n      <td>30</td>\n      <td>DECISION_TREE</td>\n      <td>Rebecca Good</td>\n      <td>F</td>\n      <td>1974-03-02</td>\n      <td>Brazil</td>\n      <td>BR</td>\n      <td>...</td>\n      <td>US</td>\n      <td>STL</td>\n      <td>St Louis</td>\n      <td>US-MO</td>\n      <td>ZA</td>\n      <td>JNB</td>\n      <td>Johannesburg</td>\n      <td>ZA-GT</td>\n      <td>83444492-04a2-4a57-9a92-8793561207f3</td>\n      <td>43</td>\n    </tr>\n    <tr>\n      <th>1076</th>\n      <td>354</td>\n      <td>10</td>\n      <td>NA</td>\n      <td>30</td>\n      <td>DECISION_TREE</td>\n      <td>Jaccie Smith</td>\n      <td>F</td>\n      <td>2001-01-23</td>\n      <td>Ghana</td>\n      <td>GH</td>\n      <td>...</td>\n      <td>US</td>\n      <td>MOB</td>\n      <td>Mobile</td>\n      <td>US-AL</td>\n      <td>KW</td>\n      <td>KWI</td>\n      <td>Kuwait City</td>\n      <td>KW-FA</td>\n      <td>5c93ef2c-a887-45ce-b7b7-bb9cc33c2c20</td>\n      <td>16</td>\n    </tr>\n    <tr>\n      <th>1077</th>\n      <td>355</td>\n      <td>100</td>\n      <td>NA</td>\n      <td>30</td>\n      <td>DECISION_TREE</td>\n      <td>Danny Peterson</td>\n      <td>F</td>\n      <td>1978-08-11</td>\n      <td>Ghana</td>\n      <td>GH</td>\n      <td>...</td>\n      <td>US</td>\n      <td>DSM</td>\n      <td>Des Moines</td>\n      <td>US-IA</td>\n      <td>BZ</td>\n      <td>BZE</td>\n      <td>Belize City</td>\n      <td>BZ-BZ</td>\n      <td>4c656f2f-ac98-4877-8e48-216d35ea9bca</td>\n      <td>38</td>\n    </tr>\n    <tr>\n      <th>1078</th>\n      <td>356</td>\n      <td>100</td>\n      <td>NA</td>\n      <td>30</td>\n      <td>DECISION_TREE</td>\n      <td>Alyssa Amanda Miller</td>\n      <td>F</td>\n      <td>1993-07-23</td>\n      <td>Ghana</td>\n      <td>GH</td>\n      <td>...</td>\n      <td>US</td>\n      <td>ADW</td>\n      <td>Camp Springs</td>\n      <td>US-MD</td>\n      <td>HU</td>\n      <td>BUD</td>\n      <td>Budapest</td>\n      <td>HU-PE</td>\n      <td>86314710-ad73-450b-96dc-0e917d44e987</td>\n      <td>23</td>\n    </tr>\n    <tr>\n      <th>1079</th>\n      <td>357</td>\n      <td>100</td>\n      <td>NA</td>\n      <td>30</td>\n      <td>DECISION_TREE</td>\n      <td>Linda Scott</td>\n      <td>F</td>\n      <td>1988-09-26</td>\n      <td>Ghana</td>\n      <td>GH</td>\n      <td>...</td>\n      <td>US</td>\n      <td>SRQ</td>\n      <td>Sarasota/Bradenton</td>\n      <td>US-FL</td>\n      <td>PE</td>\n      <td>CUZ</td>\n      <td>Cusco</td>\n      <td>PE-CUS</td>\n      <td>86b0b0b7-0ffa-4248-9ed0-be6fd8771379</td>\n      <td>28</td>\n    </tr>\n    <tr>\n      <th>1080</th>\n      <td>358</td>\n      <td>100</td>\n      <td>NA</td>\n      <td>30</td>\n      <td>DECISION_TREE</td>\n      <td>Alyssa Thomas</td>\n      <td>F</td>\n      <td>1970-01-23</td>\n      <td>Ghana</td>\n      <td>GH</td>\n      <td>...</td>\n      <td>US</td>\n      <td>DSM</td>\n      <td>Des Moines</td>\n      <td>US-IA</td>\n      <td>ID</td>\n      <td>CGK</td>\n      <td>Jakarta</td>\n      <td>ID-BT</td>\n      <td>9c36dea4-fefe-4fba-8ca5-93d27920b9bc</td>\n      <td>47</td>\n    </tr>\n    <tr>\n      <th>1081</th>\n      <td>359</td>\n      <td>100</td>\n      <td>NA</td>\n      <td>30</td>\n      <td>DECISION_TREE</td>\n      <td>Cathy Lori Griffin</td>\n      <td>F</td>\n      <td>1982-03-26</td>\n      <td>Ghana</td>\n      <td>GH</td>\n      <td>...</td>\n      <td>US</td>\n      <td>MLU</td>\n      <td>Monroe</td>\n      <td>US-LA</td>\n      <td>MY</td>\n      <td>KUL</td>\n      <td>Kuala Lumpur</td>\n      <td>MY-14</td>\n      <td>33b14a52-f238-449d-b56e-c4ce5a32cdc7</td>\n      <td>34</td>\n    </tr>\n    <tr>\n      <th>1082</th>\n      <td>360</td>\n      <td>30</td>\n      <td>NA</td>\n      <td>30</td>\n      <td>DECISION_TREE</td>\n      <td>Alisha Cheryl Watts</td>\n      <td>F</td>\n      <td>1997-10-11</td>\n      <td>Ghana</td>\n      <td>GH</td>\n      <td>...</td>\n      <td>US</td>\n      <td>PHL</td>\n      <td>Philadelphia</td>\n      <td>US-PA</td>\n      <td>OM</td>\n      <td>MCT</td>\n      <td>Muscat</td>\n      <td>OM-MA</td>\n      <td>a7785f42-9be3-4c92-a8a0-55cb960c092e</td>\n      <td>19</td>\n    </tr>\n    <tr>\n      <th>1083</th>\n      <td>361</td>\n      <td>100</td>\n      <td>NA</td>\n      <td>30</td>\n      <td>DECISION_TREE</td>\n      <td>Ashley Rhodes</td>\n      <td>F</td>\n      <td>1982-06-27</td>\n      <td>Ghana</td>\n      <td>GH</td>\n      <td>...</td>\n      <td>US</td>\n      <td>SEA</td>\n      <td>Seattle</td>\n      <td>US-WA</td>\n      <td>NL</td>\n      <td>MST</td>\n      <td>Maastricht</td>\n      <td>NL-LI</td>\n      <td>3dbeb8ec-68e5-4db7-ba97-ed637d5a03d2</td>\n      <td>34</td>\n    </tr>\n    <tr>\n      <th>1084</th>\n      <td>362</td>\n      <td>30</td>\n      <td>NA</td>\n      <td>30</td>\n      <td>DECISION_TREE</td>\n      <td>Danielle Ash Butler</td>\n      <td>F</td>\n      <td>1999-06-14</td>\n      <td>Ghana</td>\n      <td>GH</td>\n      <td>...</td>\n      <td>US</td>\n      <td>CRP</td>\n      <td>Corpus Christi</td>\n      <td>US-TX</td>\n      <td>SE</td>\n      <td>GOT</td>\n      <td>Gothenburg</td>\n      <td>SE-Q</td>\n      <td>d8ba6b49-bca2-4f15-81b9-f00f27fb987b</td>\n      <td>17</td>\n    </tr>\n  </tbody>\n</table>\n<p>10 rows \u00d7 28 columns</p>\n</div>"
                    }, 
                    "output_type": "execute_result", 
                    "metadata": {}
                }
            ], 
            "metadata": {
                "scrolled": true
            }, 
            "cell_type": "code"
        }, 
        {
            "source": "__Note__: Because DB2 Warehouse operates on a distributed system, the order of rows using IdaDataFrame.head and IdaDataFrame.tail is not guaranteed unless the table is sorted (using an \u2018ORDER BY\u2019 clause) or a column is declared as index for the IdaDataFrame (parameter/attribute indexer).\n\nIdaDataFrame also implements most attributes that are available in a pandas DataFrame, here is an example of getting the _shape_ of the data frame (rows, columns):", 
            "metadata": {}, 
            "cell_type": "markdown"
        }, 
        {
            "execution_count": 15, 
            "source": "idadf.shape", 
            "outputs": [
                {
                    "execution_count": 15, 
                    "data": {
                        "text/plain": "(1085, 28)"
                    }, 
                    "output_type": "execute_result", 
                    "metadata": {}
                }
            ], 
            "metadata": {}, 
            "cell_type": "code"
        }, 
        {
            "execution_count": 16, 
            "source": "idadf.columns", 
            "outputs": [
                {
                    "execution_count": 16, 
                    "data": {
                        "text/plain": "Index(['INTERNAL_ID', 'VETTING_LEVEL', 'DESCRIPTION',\n       'VETTING_LEVEL_PREDICTION', 'ALGORITHM_NAME', 'NAME', 'GENDER',\n       'BIRTH_DATE', 'BIRTH_COUNTRY', 'BIRTH_COUNTRY_CODE', 'OCCUPATION',\n       'ADDRESS', 'SSN', 'PASSPORT_NUMBER', 'PASSPORT_COUNTRY',\n       'PASSPORT_COUNTRY_CODE', 'COUNTRIES_VISITED', 'COUNTRIES_VISITED_COUNT',\n       'ARRIVAL_AIRPORT_COUNTRY_CODE', 'ARRIVAL_AIRPORT_IATA',\n       'ARRIVAL_AIRPORT_MUNICIPALITY', 'ARRIVAL_AIRPORT_REGION',\n       'DEPARTURE_AIRPORT_COUNTRY_CODE', 'DEPARTURE_AIRPORT_IATA',\n       'DEPARTURE_AIRPORT_MUNICIPALITY', 'DEPARTURE_AIRPORT_REGION', 'UUID',\n       'AGE'],\n      dtype='object')"
                    }, 
                    "output_type": "execute_result", 
                    "metadata": {}
                }
            ], 
            "metadata": {}, 
            "cell_type": "code"
        }, 
        {
            "source": "Several standard statistics functions from the pandas interface are also available for IdaDataFrame.  You can use the __TAB__ key after the `.` to see the methods and attributes available in an object in a pulldown menu. \n\nFor example, let us calculate various summary statistics for the data set by using the `describe()` method for the IdaDataFrame instance:", 
            "metadata": {}, 
            "cell_type": "markdown"
        }, 
        {
            "execution_count": 18, 
            "source": "idadf.describe()", 
            "outputs": [
                {
                    "execution_count": 18, 
                    "data": {
                        "text/plain": "       INTERNAL_ID  VETTING_LEVEL  VETTING_LEVEL_PREDICTION  PASSPORT_NUMBER  \\\ncount  1085.000000    1085.000000               1085.000000     1.085000e+03   \nmean    543.000000      87.373272                 51.649770     4.872943e+08   \nstd     313.356825      28.711792                 38.319724     2.925367e+08   \nmin       1.000000      10.000000                 10.000000     1.773050e+05   \n25%     272.000000     100.000000                 20.000000     2.325441e+08   \n50%     543.000000     100.000000                 30.000000     4.867979e+08   \n75%     814.000000     100.000000                100.000000     7.451034e+08   \nmax    1085.000000     100.000000                100.000000     9.980199e+08   \n\n       COUNTRIES_VISITED_COUNT          AGE  \ncount              1085.000000  1085.000000  \nmean                  4.391705    30.811060  \nstd                   2.837630     9.343993  \nmin                   1.000000    15.000000  \n25%                   2.000000    23.000000  \n50%                   4.000000    31.000000  \n75%                   6.000000    39.000000  \nmax                  12.000000    47.000000  ", 
                        "text/html": "<div>\n<table border=\"1\" class=\"dataframe\">\n  <thead>\n    <tr style=\"text-align: right;\">\n      <th></th>\n      <th>INTERNAL_ID</th>\n      <th>VETTING_LEVEL</th>\n      <th>VETTING_LEVEL_PREDICTION</th>\n      <th>PASSPORT_NUMBER</th>\n      <th>COUNTRIES_VISITED_COUNT</th>\n      <th>AGE</th>\n    </tr>\n  </thead>\n  <tbody>\n    <tr>\n      <th>count</th>\n      <td>1085.000000</td>\n      <td>1085.000000</td>\n      <td>1085.000000</td>\n      <td>1.085000e+03</td>\n      <td>1085.000000</td>\n      <td>1085.000000</td>\n    </tr>\n    <tr>\n      <th>mean</th>\n      <td>543.000000</td>\n      <td>87.373272</td>\n      <td>51.649770</td>\n      <td>4.872943e+08</td>\n      <td>4.391705</td>\n      <td>30.811060</td>\n    </tr>\n    <tr>\n      <th>std</th>\n      <td>313.356825</td>\n      <td>28.711792</td>\n      <td>38.319724</td>\n      <td>2.925367e+08</td>\n      <td>2.837630</td>\n      <td>9.343993</td>\n    </tr>\n    <tr>\n      <th>min</th>\n      <td>1.000000</td>\n      <td>10.000000</td>\n      <td>10.000000</td>\n      <td>1.773050e+05</td>\n      <td>1.000000</td>\n      <td>15.000000</td>\n    </tr>\n    <tr>\n      <th>25%</th>\n      <td>272.000000</td>\n      <td>100.000000</td>\n      <td>20.000000</td>\n      <td>2.325441e+08</td>\n      <td>2.000000</td>\n      <td>23.000000</td>\n    </tr>\n    <tr>\n      <th>50%</th>\n      <td>543.000000</td>\n      <td>100.000000</td>\n      <td>30.000000</td>\n      <td>4.867979e+08</td>\n      <td>4.000000</td>\n      <td>31.000000</td>\n    </tr>\n    <tr>\n      <th>75%</th>\n      <td>814.000000</td>\n      <td>100.000000</td>\n      <td>100.000000</td>\n      <td>7.451034e+08</td>\n      <td>6.000000</td>\n      <td>39.000000</td>\n    </tr>\n    <tr>\n      <th>max</th>\n      <td>1085.000000</td>\n      <td>100.000000</td>\n      <td>100.000000</td>\n      <td>9.980199e+08</td>\n      <td>12.000000</td>\n      <td>47.000000</td>\n    </tr>\n  </tbody>\n</table>\n</div>"
                    }, 
                    "output_type": "execute_result", 
                    "metadata": {}
                }
            ], 
            "metadata": {}, 
            "cell_type": "code"
        }, 
        {
            "source": "__Note__: It is possible to subset the rows of an IdaDataFrame by accessing the IdaDataFrame with a slice object. You can also use the IdaDataFrame.loc attribute, which contains an ibmdbpy.Loc object. However, the row selection might be inaccurate if the current IdaDataFrame is not sorted or does not contain an indexer. This is due to the fact that DB2 Warehouse stores the data across several nodes if available. Moreover, because DB2 Warehouse is by default a column oriented database, row numbers are undefined:", 
            "metadata": {}, 
            "cell_type": "markdown"
        }, 
        {
            "execution_count": 22, 
            "source": "idadf_new = idadf[11:19] # Select the first 10 rows\nidadf_new.head(10)", 
            "outputs": [
                {
                    "execution_count": 22, 
                    "data": {
                        "text/plain": "    INTERNAL_ID  VETTING_LEVEL DESCRIPTION  VETTING_LEVEL_PREDICTION  \\\n11          374            100          NA                       100   \n12          375            100          NA                       100   \n13          376            100          NA                       100   \n14          377            100          NA                       100   \n15          378            100          NA                       100   \n16          379            100          NA                        30   \n17          380             30          NA                        30   \n18          381            100          NA                        30   \n\n   ALGORITHM_NAME                NAME GENDER  BIRTH_DATE BIRTH_COUNTRY  \\\n11  DECISION_TREE     Misty Joye Cook      F  1992-08-13         Ghana   \n12  DECISION_TREE        Jessey Ayala      F  1999-08-25         Ghana   \n13  DECISION_TREE  Kelli Jilly Parker      F  1995-12-17         Ghana   \n14  DECISION_TREE         Sarah Morse      F  1990-06-20         Ghana   \n15  DECISION_TREE    Brittany Parsons      F  2001-07-11         Ghana   \n16  DECISION_TREE     Brenda Oconnell      F  1994-12-06         Ghana   \n17  DECISION_TREE       Tracey Hudson      F  2001-03-16         Ghana   \n18  DECISION_TREE   Barb Renee Barton      F  1981-05-22         Ghana   \n\n   BIRTH_COUNTRY_CODE ... ARRIVAL_AIRPORT_COUNTRY_CODE ARRIVAL_AIRPORT_IATA  \\\n11                 GH ...                           US                  CLT   \n12                 GH ...                           US                  ABQ   \n13                 GH ...                           US                  AUS   \n14                 GH ...                           US                  BNA   \n15                 GH ...                           US                  AFW   \n16                 GH ...                           US                  DAL   \n17                 GH ...                           US                  BWI   \n18                 GH ...                           US                  CBM   \n\n   ARRIVAL_AIRPORT_MUNICIPALITY  ARRIVAL_AIRPORT_REGION  \\\n11                    Charlotte                   US-NC   \n12                  Albuquerque                   US-NM   \n13                       Austin                   US-TX   \n14                    Nashville                   US-TN   \n15                   Fort Worth                   US-TX   \n16                       Dallas                   US-TX   \n17                    Baltimore                   US-MD   \n18                     Columbus                   US-MS   \n\n   DEPARTURE_AIRPORT_COUNTRY_CODE DEPARTURE_AIRPORT_IATA  \\\n11                             VN                    SGN   \n12                             LY                    TIP   \n13                             KE                    MBA   \n14                             KY                    GCM   \n15                             CY                    PFO   \n16                             OM                    JNJ   \n17                             RU                    UFA   \n18                             OM                    MCT   \n\n   DEPARTURE_AIRPORT_MUNICIPALITY  DEPARTURE_AIRPORT_REGION  \\\n11               Ho Chi Minh City                     VN-23   \n12                        Tripoli                     LY-TB   \n13                        Mombasa                    KE-300   \n14                     Georgetown                    KY-U-A   \n15                         Paphos                     CY-06   \n16                           Duqm                     OM-WU   \n17                            Ufa                     RU-BA   \n18                         Muscat                     OM-MA   \n\n                                    UUID AGE  \n11  51cb6d90-9a8b-4b3c-8d0a-bf53da427a0b  24  \n12  ecc55978-1a51-4c47-b267-7635c59f2272  17  \n13  3699ddcc-8ed3-405a-8019-e71871e46293  21  \n14  76febbc7-3d2a-472d-9f06-a0acfb922348  26  \n15  951114a7-bafc-4bbd-be22-2de885139326  15  \n16  9e8567cb-e53a-495a-bf82-f8c333a9351c  22  \n17  a82f9d33-9e2e-4dc6-b61c-ba4f47e6e856  15  \n18  44bf7952-a404-4670-88d8-2f010c59c84f  35  \n\n[8 rows x 28 columns]", 
                        "text/html": "<div>\n<table border=\"1\" class=\"dataframe\">\n  <thead>\n    <tr style=\"text-align: right;\">\n      <th></th>\n      <th>INTERNAL_ID</th>\n      <th>VETTING_LEVEL</th>\n      <th>DESCRIPTION</th>\n      <th>VETTING_LEVEL_PREDICTION</th>\n      <th>ALGORITHM_NAME</th>\n      <th>NAME</th>\n      <th>GENDER</th>\n      <th>BIRTH_DATE</th>\n      <th>BIRTH_COUNTRY</th>\n      <th>BIRTH_COUNTRY_CODE</th>\n      <th>...</th>\n      <th>ARRIVAL_AIRPORT_COUNTRY_CODE</th>\n      <th>ARRIVAL_AIRPORT_IATA</th>\n      <th>ARRIVAL_AIRPORT_MUNICIPALITY</th>\n      <th>ARRIVAL_AIRPORT_REGION</th>\n      <th>DEPARTURE_AIRPORT_COUNTRY_CODE</th>\n      <th>DEPARTURE_AIRPORT_IATA</th>\n      <th>DEPARTURE_AIRPORT_MUNICIPALITY</th>\n      <th>DEPARTURE_AIRPORT_REGION</th>\n      <th>UUID</th>\n      <th>AGE</th>\n    </tr>\n  </thead>\n  <tbody>\n    <tr>\n      <th>11</th>\n      <td>374</td>\n      <td>100</td>\n      <td>NA</td>\n      <td>100</td>\n      <td>DECISION_TREE</td>\n      <td>Misty Joye Cook</td>\n      <td>F</td>\n      <td>1992-08-13</td>\n      <td>Ghana</td>\n      <td>GH</td>\n      <td>...</td>\n      <td>US</td>\n      <td>CLT</td>\n      <td>Charlotte</td>\n      <td>US-NC</td>\n      <td>VN</td>\n      <td>SGN</td>\n      <td>Ho Chi Minh City</td>\n      <td>VN-23</td>\n      <td>51cb6d90-9a8b-4b3c-8d0a-bf53da427a0b</td>\n      <td>24</td>\n    </tr>\n    <tr>\n      <th>12</th>\n      <td>375</td>\n      <td>100</td>\n      <td>NA</td>\n      <td>100</td>\n      <td>DECISION_TREE</td>\n      <td>Jessey Ayala</td>\n      <td>F</td>\n      <td>1999-08-25</td>\n      <td>Ghana</td>\n      <td>GH</td>\n      <td>...</td>\n      <td>US</td>\n      <td>ABQ</td>\n      <td>Albuquerque</td>\n      <td>US-NM</td>\n      <td>LY</td>\n      <td>TIP</td>\n      <td>Tripoli</td>\n      <td>LY-TB</td>\n      <td>ecc55978-1a51-4c47-b267-7635c59f2272</td>\n      <td>17</td>\n    </tr>\n    <tr>\n      <th>13</th>\n      <td>376</td>\n      <td>100</td>\n      <td>NA</td>\n      <td>100</td>\n      <td>DECISION_TREE</td>\n      <td>Kelli Jilly Parker</td>\n      <td>F</td>\n      <td>1995-12-17</td>\n      <td>Ghana</td>\n      <td>GH</td>\n      <td>...</td>\n      <td>US</td>\n      <td>AUS</td>\n      <td>Austin</td>\n      <td>US-TX</td>\n      <td>KE</td>\n      <td>MBA</td>\n      <td>Mombasa</td>\n      <td>KE-300</td>\n      <td>3699ddcc-8ed3-405a-8019-e71871e46293</td>\n      <td>21</td>\n    </tr>\n    <tr>\n      <th>14</th>\n      <td>377</td>\n      <td>100</td>\n      <td>NA</td>\n      <td>100</td>\n      <td>DECISION_TREE</td>\n      <td>Sarah Morse</td>\n      <td>F</td>\n      <td>1990-06-20</td>\n      <td>Ghana</td>\n      <td>GH</td>\n      <td>...</td>\n      <td>US</td>\n      <td>BNA</td>\n      <td>Nashville</td>\n      <td>US-TN</td>\n      <td>KY</td>\n      <td>GCM</td>\n      <td>Georgetown</td>\n      <td>KY-U-A</td>\n      <td>76febbc7-3d2a-472d-9f06-a0acfb922348</td>\n      <td>26</td>\n    </tr>\n    <tr>\n      <th>15</th>\n      <td>378</td>\n      <td>100</td>\n      <td>NA</td>\n      <td>100</td>\n      <td>DECISION_TREE</td>\n      <td>Brittany Parsons</td>\n      <td>F</td>\n      <td>2001-07-11</td>\n      <td>Ghana</td>\n      <td>GH</td>\n      <td>...</td>\n      <td>US</td>\n      <td>AFW</td>\n      <td>Fort Worth</td>\n      <td>US-TX</td>\n      <td>CY</td>\n      <td>PFO</td>\n      <td>Paphos</td>\n      <td>CY-06</td>\n      <td>951114a7-bafc-4bbd-be22-2de885139326</td>\n      <td>15</td>\n    </tr>\n    <tr>\n      <th>16</th>\n      <td>379</td>\n      <td>100</td>\n      <td>NA</td>\n      <td>30</td>\n      <td>DECISION_TREE</td>\n      <td>Brenda Oconnell</td>\n      <td>F</td>\n      <td>1994-12-06</td>\n      <td>Ghana</td>\n      <td>GH</td>\n      <td>...</td>\n      <td>US</td>\n      <td>DAL</td>\n      <td>Dallas</td>\n      <td>US-TX</td>\n      <td>OM</td>\n      <td>JNJ</td>\n      <td>Duqm</td>\n      <td>OM-WU</td>\n      <td>9e8567cb-e53a-495a-bf82-f8c333a9351c</td>\n      <td>22</td>\n    </tr>\n    <tr>\n      <th>17</th>\n      <td>380</td>\n      <td>30</td>\n      <td>NA</td>\n      <td>30</td>\n      <td>DECISION_TREE</td>\n      <td>Tracey Hudson</td>\n      <td>F</td>\n      <td>2001-03-16</td>\n      <td>Ghana</td>\n      <td>GH</td>\n      <td>...</td>\n      <td>US</td>\n      <td>BWI</td>\n      <td>Baltimore</td>\n      <td>US-MD</td>\n      <td>RU</td>\n      <td>UFA</td>\n      <td>Ufa</td>\n      <td>RU-BA</td>\n      <td>a82f9d33-9e2e-4dc6-b61c-ba4f47e6e856</td>\n      <td>15</td>\n    </tr>\n    <tr>\n      <th>18</th>\n      <td>381</td>\n      <td>100</td>\n      <td>NA</td>\n      <td>30</td>\n      <td>DECISION_TREE</td>\n      <td>Barb Renee Barton</td>\n      <td>F</td>\n      <td>1981-05-22</td>\n      <td>Ghana</td>\n      <td>GH</td>\n      <td>...</td>\n      <td>US</td>\n      <td>CBM</td>\n      <td>Columbus</td>\n      <td>US-MS</td>\n      <td>OM</td>\n      <td>MCT</td>\n      <td>Muscat</td>\n      <td>OM-MA</td>\n      <td>44bf7952-a404-4670-88d8-2f010c59c84f</td>\n      <td>35</td>\n    </tr>\n  </tbody>\n</table>\n<p>8 rows \u00d7 28 columns</p>\n</div>"
                    }, 
                    "output_type": "execute_result", 
                    "metadata": {}
                }
            ], 
            "metadata": {
                "scrolled": true
            }, 
            "cell_type": "code"
        }, 
        {
            "source": "<a id=\"Use-SQL\"></a>\n## Use SQL\nWe can also use SQL to get the top 10.", 
            "metadata": {}, 
            "cell_type": "markdown"
        }, 
        {
            "execution_count": 23, 
            "source": "top_10_df = idadb.ida_query('SELECT * FROM GOSALESDW.EMP_EXPENSE_FACT LIMIT 10')\ntop_10_df", 
            "outputs": [
                {
                    "execution_count": 23, 
                    "data": {
                        "text/plain": "    day_key  organization_key  position_key  employee_key  expense_type_key  \\\n0  20100731             11167         43636          4191              2137   \n1  20100831             11167         43636          4191              2104   \n2  20100831             11167         43636          4191              2120   \n3  20100831             11167         43636          4191              2122   \n4  20100831             11167         43636          4191              2124   \n5  20100831             11167         43636          4191              2131   \n6  20100930             11167         43636          4191              2104   \n7  20100930             11167         43636          4191              2120   \n8  20100930             11167         43636          4191              2122   \n9  20100930             11167         43636          4191              2124   \n\n   account_key  expense_unit_quantity  expense_total  \n0         8050                   7.50         500.00  \n1         8050                   7.50         229.17  \n2         8052                   0.08         403.33  \n3         8054                   0.11         554.58  \n4         8056                   0.03         151.25  \n5         8049                 157.50        4812.50  \n6         8050                   7.50         229.17  \n7         8052                   0.08         403.33  \n8         8054                   0.11         554.58  \n9         8056                   0.03         151.25  ", 
                        "text/html": "<div>\n<table border=\"1\" class=\"dataframe\">\n  <thead>\n    <tr style=\"text-align: right;\">\n      <th></th>\n      <th>day_key</th>\n      <th>organization_key</th>\n      <th>position_key</th>\n      <th>employee_key</th>\n      <th>expense_type_key</th>\n      <th>account_key</th>\n      <th>expense_unit_quantity</th>\n      <th>expense_total</th>\n    </tr>\n  </thead>\n  <tbody>\n    <tr>\n      <th>0</th>\n      <td>20100731</td>\n      <td>11167</td>\n      <td>43636</td>\n      <td>4191</td>\n      <td>2137</td>\n      <td>8050</td>\n      <td>7.50</td>\n      <td>500.00</td>\n    </tr>\n    <tr>\n      <th>1</th>\n      <td>20100831</td>\n      <td>11167</td>\n      <td>43636</td>\n      <td>4191</td>\n      <td>2104</td>\n      <td>8050</td>\n      <td>7.50</td>\n      <td>229.17</td>\n    </tr>\n    <tr>\n      <th>2</th>\n      <td>20100831</td>\n      <td>11167</td>\n      <td>43636</td>\n      <td>4191</td>\n      <td>2120</td>\n      <td>8052</td>\n      <td>0.08</td>\n      <td>403.33</td>\n    </tr>\n    <tr>\n      <th>3</th>\n      <td>20100831</td>\n      <td>11167</td>\n      <td>43636</td>\n      <td>4191</td>\n      <td>2122</td>\n      <td>8054</td>\n      <td>0.11</td>\n      <td>554.58</td>\n    </tr>\n    <tr>\n      <th>4</th>\n      <td>20100831</td>\n      <td>11167</td>\n      <td>43636</td>\n      <td>4191</td>\n      <td>2124</td>\n      <td>8056</td>\n      <td>0.03</td>\n      <td>151.25</td>\n    </tr>\n    <tr>\n      <th>5</th>\n      <td>20100831</td>\n      <td>11167</td>\n      <td>43636</td>\n      <td>4191</td>\n      <td>2131</td>\n      <td>8049</td>\n      <td>157.50</td>\n      <td>4812.50</td>\n    </tr>\n    <tr>\n      <th>6</th>\n      <td>20100930</td>\n      <td>11167</td>\n      <td>43636</td>\n      <td>4191</td>\n      <td>2104</td>\n      <td>8050</td>\n      <td>7.50</td>\n      <td>229.17</td>\n    </tr>\n    <tr>\n      <th>7</th>\n      <td>20100930</td>\n      <td>11167</td>\n      <td>43636</td>\n      <td>4191</td>\n      <td>2120</td>\n      <td>8052</td>\n      <td>0.08</td>\n      <td>403.33</td>\n    </tr>\n    <tr>\n      <th>8</th>\n      <td>20100930</td>\n      <td>11167</td>\n      <td>43636</td>\n      <td>4191</td>\n      <td>2122</td>\n      <td>8054</td>\n      <td>0.11</td>\n      <td>554.58</td>\n    </tr>\n    <tr>\n      <th>9</th>\n      <td>20100930</td>\n      <td>11167</td>\n      <td>43636</td>\n      <td>4191</td>\n      <td>2124</td>\n      <td>8056</td>\n      <td>0.03</td>\n      <td>151.25</td>\n    </tr>\n  </tbody>\n</table>\n</div>"
                    }, 
                    "output_type": "execute_result", 
                    "metadata": {}
                }
            ], 
            "metadata": {}, 
            "cell_type": "code"
        }, 
        {
            "source": "Find the top 10 employees (by id) by the number of transactions in the `GOSALESDW.EMP_EXPENSE_FACT` table.", 
            "metadata": {}, 
            "cell_type": "markdown"
        }, 
        {
            "execution_count": 24, 
            "source": "idadb.ida_query('SELECT EMPLOYEE_KEY, COUNT(*) AS COUNT FROM GOSALESDW.EMP_EXPENSE_FACT GROUP BY EMPLOYEE_KEY ORDER BY COUNT DESC LIMIT 10')", 
            "outputs": [
                {
                    "execution_count": 24, 
                    "data": {
                        "text/plain": "   employee_key  count\n0          4112  263.0\n1          4134  263.0\n2          4135  261.0\n3          4019  260.0\n4          4368  260.0\n5          4053  260.0\n6          4016  260.0\n7          4480  259.0\n8          4129  259.0\n9          4157  258.0", 
                        "text/html": "<div>\n<table border=\"1\" class=\"dataframe\">\n  <thead>\n    <tr style=\"text-align: right;\">\n      <th></th>\n      <th>employee_key</th>\n      <th>count</th>\n    </tr>\n  </thead>\n  <tbody>\n    <tr>\n      <th>0</th>\n      <td>4112</td>\n      <td>263.0</td>\n    </tr>\n    <tr>\n      <th>1</th>\n      <td>4134</td>\n      <td>263.0</td>\n    </tr>\n    <tr>\n      <th>2</th>\n      <td>4135</td>\n      <td>261.0</td>\n    </tr>\n    <tr>\n      <th>3</th>\n      <td>4019</td>\n      <td>260.0</td>\n    </tr>\n    <tr>\n      <th>4</th>\n      <td>4368</td>\n      <td>260.0</td>\n    </tr>\n    <tr>\n      <th>5</th>\n      <td>4053</td>\n      <td>260.0</td>\n    </tr>\n    <tr>\n      <th>6</th>\n      <td>4016</td>\n      <td>260.0</td>\n    </tr>\n    <tr>\n      <th>7</th>\n      <td>4480</td>\n      <td>259.0</td>\n    </tr>\n    <tr>\n      <th>8</th>\n      <td>4129</td>\n      <td>259.0</td>\n    </tr>\n    <tr>\n      <th>9</th>\n      <td>4157</td>\n      <td>258.0</td>\n    </tr>\n  </tbody>\n</table>\n</div>"
                    }, 
                    "output_type": "execute_result", 
                    "metadata": {}
                }
            ], 
            "metadata": {}, 
            "cell_type": "code"
        }, 
        {
            "source": "<a id=\"Explore-the-trafficking-data\"></a>\n## Explore the trafficking data\n__Time to apply what you've learned!__\n\nComplete the tasks that are commented in the code blocks.  If you get stuck, check out the hints.  If you're still stuck, read the solution.  If you have any questions, feel free to ask.", 
            "metadata": {}, 
            "cell_type": "markdown"
        }, 
        {
            "source": "### Create an ibmdbpy dataframe called `trafficking_df` and set it to the name of the trafficking table in your DB2 Warehouse <br>\n\n<div class=\"panel-group\" id=\"accordion-2\">\n  <div class=\"panel panel-default\">\n    <div class=\"panel-heading\">\n      <h4 class=\"panel-title\"><a data-toggle=\"collapse\" data-parent=\"#accordion-2\" href=\"#collapse2-1\">Hint 1</a></h4>\n    </div>\n    <div id=\"collapse2-1\" class=\"panel-collapse collapse\">\n      <div class=\"panel-body\">     \nUse the Connections table to insert the dataframe.   Be sure to name the result trafficking_df!\n      </div>\n    </div>\n  </div>\n  <div class=\"panel panel-default\">\n    <div class=\"panel-heading\">\n      <h4 class=\"panel-title\"><a data-toggle=\"collapse\" data-parent=\"#accordion-2\" href=\"#collapse2-2\">Solution</a></h4>\n    </div>\n    <div id=\"collapse2-2\" class=\"panel-collapse collapse\">\n      <div class=\"panel-body\">     \nSelect the data cell you wish the code to be added to<br>\nSelect the Find and Add Data icon<br>\nSelect Connections<br>\nSelect Insert to Code for the connection you wish to use (there should only be one)<br>\nSelect Insert ibmdbpy IdaDataframe<br>\nSelect the Schema you used to load the data (this schema should start with DASH)<br>\nSelect the Table (there should only be one)<br>\nSelect Insert Code<br>\nRename the result to trafficking_df\n      </div>\n    </div>\n  </div>\n</div>", 
            "metadata": {}, 
            "cell_type": "markdown"
        }, 
        {
            "execution_count": 30, 
            "source": "# insert dataframe here\ntrafficking_df = IdaDataFrame(idadb_31dde123ea4c4f2080a8f11e23626d3a, 'DASH5716.FEMALE_HUMAN_TRAFFICKING').as_dataframe()\ntrafficking_df.head()\n\n", 
            "outputs": [
                {
                    "execution_count": 30, 
                    "data": {
                        "text/plain": "   INTERNAL_ID  VETTING_LEVEL DESCRIPTION  VETTING_LEVEL_PREDICTION  \\\n0          363            100          NA                        30   \n1          364             30          NA                        30   \n2          365             10          NA                        30   \n3          366             30          NA                        30   \n4          367            100          NA                       100   \n\n  ALGORITHM_NAME                     NAME GENDER  BIRTH_DATE BIRTH_COUNTRY  \\\n0  DECISION_TREE      Joyce Valerie Jones      F  1990-11-25         Ghana   \n1  DECISION_TREE  Veronica Breanna French      F  2001-05-26         Ghana   \n2  DECISION_TREE   Darlene Kendra Jackson      F  1978-09-01        Brazil   \n3  DECISION_TREE     Lisa Melissa Russell      F  1990-04-05        Brazil   \n4  DECISION_TREE            Caitlin Moore      F  1973-09-08         Ghana   \n\n  BIRTH_COUNTRY_CODE ... ARRIVAL_AIRPORT_COUNTRY_CODE ARRIVAL_AIRPORT_IATA  \\\n0                 GH ...                           US                  SAT   \n1                 GH ...                           US                  RDU   \n2                 BR ...                           US                  BLV   \n3                 BR ...                           US                  LCK   \n4                 GH ...                           US                  DLF   \n\n  ARRIVAL_AIRPORT_MUNICIPALITY  ARRIVAL_AIRPORT_REGION  \\\n0                  San Antonio                   US-TX   \n1               Raleigh/Durham                   US-NC   \n2                   Belleville                   US-IL   \n3                     Columbus                   US-OH   \n4                      Del Rio                   US-TX   \n\n  DEPARTURE_AIRPORT_COUNTRY_CODE DEPARTURE_AIRPORT_IATA  \\\n0                             FI                    HEL   \n1                             RU                    KJA   \n2                             IE                    ORK   \n3                             RU                    AER   \n4                             CZ                    PRG   \n\n  DEPARTURE_AIRPORT_MUNICIPALITY  DEPARTURE_AIRPORT_REGION  \\\n0                       Helsinki                     FI-ES   \n1                    Krasnoyarsk                    RU-KYA   \n2                           Cork                      IE-C   \n3                          Sochi                    RU-KDA   \n4                         Prague                     CZ-PR   \n\n                                   UUID AGE  \n0  13363a0f-1a5e-4f68-9e53-a9d52845f33b  26  \n1  8c5fb696-09bf-4071-810b-1eef79bcd19f  15  \n2  b0def062-af37-441d-b611-580befa71cc6  38  \n3  96d9f810-42ec-4851-bef8-8919661cb960  26  \n4  93adb238-ba71-4525-95fe-b111e41d57b4  43  \n\n[5 rows x 28 columns]", 
                        "text/html": "<div>\n<table border=\"1\" class=\"dataframe\">\n  <thead>\n    <tr style=\"text-align: right;\">\n      <th></th>\n      <th>INTERNAL_ID</th>\n      <th>VETTING_LEVEL</th>\n      <th>DESCRIPTION</th>\n      <th>VETTING_LEVEL_PREDICTION</th>\n      <th>ALGORITHM_NAME</th>\n      <th>NAME</th>\n      <th>GENDER</th>\n      <th>BIRTH_DATE</th>\n      <th>BIRTH_COUNTRY</th>\n      <th>BIRTH_COUNTRY_CODE</th>\n      <th>...</th>\n      <th>ARRIVAL_AIRPORT_COUNTRY_CODE</th>\n      <th>ARRIVAL_AIRPORT_IATA</th>\n      <th>ARRIVAL_AIRPORT_MUNICIPALITY</th>\n      <th>ARRIVAL_AIRPORT_REGION</th>\n      <th>DEPARTURE_AIRPORT_COUNTRY_CODE</th>\n      <th>DEPARTURE_AIRPORT_IATA</th>\n      <th>DEPARTURE_AIRPORT_MUNICIPALITY</th>\n      <th>DEPARTURE_AIRPORT_REGION</th>\n      <th>UUID</th>\n      <th>AGE</th>\n    </tr>\n  </thead>\n  <tbody>\n    <tr>\n      <th>0</th>\n      <td>363</td>\n      <td>100</td>\n      <td>NA</td>\n      <td>30</td>\n      <td>DECISION_TREE</td>\n      <td>Joyce Valerie Jones</td>\n      <td>F</td>\n      <td>1990-11-25</td>\n      <td>Ghana</td>\n      <td>GH</td>\n      <td>...</td>\n      <td>US</td>\n      <td>SAT</td>\n      <td>San Antonio</td>\n      <td>US-TX</td>\n      <td>FI</td>\n      <td>HEL</td>\n      <td>Helsinki</td>\n      <td>FI-ES</td>\n      <td>13363a0f-1a5e-4f68-9e53-a9d52845f33b</td>\n      <td>26</td>\n    </tr>\n    <tr>\n      <th>1</th>\n      <td>364</td>\n      <td>30</td>\n      <td>NA</td>\n      <td>30</td>\n      <td>DECISION_TREE</td>\n      <td>Veronica Breanna French</td>\n      <td>F</td>\n      <td>2001-05-26</td>\n      <td>Ghana</td>\n      <td>GH</td>\n      <td>...</td>\n      <td>US</td>\n      <td>RDU</td>\n      <td>Raleigh/Durham</td>\n      <td>US-NC</td>\n      <td>RU</td>\n      <td>KJA</td>\n      <td>Krasnoyarsk</td>\n      <td>RU-KYA</td>\n      <td>8c5fb696-09bf-4071-810b-1eef79bcd19f</td>\n      <td>15</td>\n    </tr>\n    <tr>\n      <th>2</th>\n      <td>365</td>\n      <td>10</td>\n      <td>NA</td>\n      <td>30</td>\n      <td>DECISION_TREE</td>\n      <td>Darlene Kendra Jackson</td>\n      <td>F</td>\n      <td>1978-09-01</td>\n      <td>Brazil</td>\n      <td>BR</td>\n      <td>...</td>\n      <td>US</td>\n      <td>BLV</td>\n      <td>Belleville</td>\n      <td>US-IL</td>\n      <td>IE</td>\n      <td>ORK</td>\n      <td>Cork</td>\n      <td>IE-C</td>\n      <td>b0def062-af37-441d-b611-580befa71cc6</td>\n      <td>38</td>\n    </tr>\n    <tr>\n      <th>3</th>\n      <td>366</td>\n      <td>30</td>\n      <td>NA</td>\n      <td>30</td>\n      <td>DECISION_TREE</td>\n      <td>Lisa Melissa Russell</td>\n      <td>F</td>\n      <td>1990-04-05</td>\n      <td>Brazil</td>\n      <td>BR</td>\n      <td>...</td>\n      <td>US</td>\n      <td>LCK</td>\n      <td>Columbus</td>\n      <td>US-OH</td>\n      <td>RU</td>\n      <td>AER</td>\n      <td>Sochi</td>\n      <td>RU-KDA</td>\n      <td>96d9f810-42ec-4851-bef8-8919661cb960</td>\n      <td>26</td>\n    </tr>\n    <tr>\n      <th>4</th>\n      <td>367</td>\n      <td>100</td>\n      <td>NA</td>\n      <td>100</td>\n      <td>DECISION_TREE</td>\n      <td>Caitlin Moore</td>\n      <td>F</td>\n      <td>1973-09-08</td>\n      <td>Ghana</td>\n      <td>GH</td>\n      <td>...</td>\n      <td>US</td>\n      <td>DLF</td>\n      <td>Del Rio</td>\n      <td>US-TX</td>\n      <td>CZ</td>\n      <td>PRG</td>\n      <td>Prague</td>\n      <td>CZ-PR</td>\n      <td>93adb238-ba71-4525-95fe-b111e41d57b4</td>\n      <td>43</td>\n    </tr>\n  </tbody>\n</table>\n<p>5 rows \u00d7 28 columns</p>\n</div>"
                    }, 
                    "output_type": "execute_result", 
                    "metadata": {}
                }
            ], 
            "metadata": {}, 
            "cell_type": "code"
        }, 
        {
            "execution_count": 31, 
            "source": "idadb.exists_table_or_view(trafficking_df.name)\n\n# The output of this block should be:\n# True", 
            "outputs": [
                {
                    "execution_count": 31, 
                    "data": {
                        "text/plain": "True"
                    }, 
                    "output_type": "execute_result", 
                    "metadata": {}
                }
            ], 
            "metadata": {}, 
            "cell_type": "code"
        }, 
        {
            "execution_count": 32, 
            "source": "print(trafficking_df.shape)\ntrafficking_df.dtypes", 
            "outputs": [
                {
                    "name": "stdout", 
                    "output_type": "stream", 
                    "text": "(1085, 28)\n"
                }, 
                {
                    "execution_count": 32, 
                    "data": {
                        "text/plain": "INTERNAL_ID                        int64\nVETTING_LEVEL                      int64\nDESCRIPTION                       object\nVETTING_LEVEL_PREDICTION           int64\nALGORITHM_NAME                    object\nNAME                              object\nGENDER                            object\nBIRTH_DATE                        object\nBIRTH_COUNTRY                     object\nBIRTH_COUNTRY_CODE                object\nOCCUPATION                        object\nADDRESS                           object\nSSN                               object\nPASSPORT_NUMBER                    int64\nPASSPORT_COUNTRY                  object\nPASSPORT_COUNTRY_CODE             object\nCOUNTRIES_VISITED                 object\nCOUNTRIES_VISITED_COUNT            int64\nARRIVAL_AIRPORT_COUNTRY_CODE      object\nARRIVAL_AIRPORT_IATA              object\nARRIVAL_AIRPORT_MUNICIPALITY      object\nARRIVAL_AIRPORT_REGION            object\nDEPARTURE_AIRPORT_COUNTRY_CODE    object\nDEPARTURE_AIRPORT_IATA            object\nDEPARTURE_AIRPORT_MUNICIPALITY    object\nDEPARTURE_AIRPORT_REGION          object\nUUID                              object\nAGE                                int64\ndtype: object"
                    }, 
                    "output_type": "execute_result", 
                    "metadata": {}
                }
            ], 
            "metadata": {}, 
            "cell_type": "code"
        }, 
        {
            "source": "### Show the top 5 records from the table using a method of the IdaDataFrame <br>\n<div class=\"panel-group\" id=\"accordion-12\">\n  <div class=\"panel panel-default\">\n    <div class=\"panel-heading\">\n      <h4 class=\"panel-title\"><a data-toggle=\"collapse\" data-parent=\"#accordion-12\" href=\"#collapse1-12\">Hint 1</a></h4>\n    </div>\n    <div id=\"collapse1-12\" class=\"panel-collapse collapse\">\n      <div class=\"panel-body\">\n      \nHeads or tails?\n      \n      </div>\n    </div>\n  </div>\n  <div class=\"panel panel-default\">\n    <div class=\"panel-heading\">\n      <h4 class=\"panel-title\"><a data-toggle=\"collapse\" data-parent=\"#accordion-12\" href=\"#collapse2-12\">Solution</a></h4>\n    </div>\n    <div id=\"collapse2-12\" class=\"panel-collapse collapse\">\n      <div class=\"panel-body\">\n      Heads!<br>\n<pre>\ntrafficking_df.head()\n</pre> \n      </div>\n    </div>\n  </div>\n</div>\n", 
            "metadata": {}, 
            "cell_type": "markdown"
        }, 
        {
            "execution_count": 33, 
            "source": "# enter answer here\ntrafficking_df.head(5)", 
            "outputs": [
                {
                    "execution_count": 33, 
                    "data": {
                        "text/plain": "   INTERNAL_ID  VETTING_LEVEL DESCRIPTION  VETTING_LEVEL_PREDICTION  \\\n0          363            100          NA                        30   \n1          364             30          NA                        30   \n2          365             10          NA                        30   \n3          366             30          NA                        30   \n4          367            100          NA                       100   \n\n  ALGORITHM_NAME                     NAME GENDER  BIRTH_DATE BIRTH_COUNTRY  \\\n0  DECISION_TREE      Joyce Valerie Jones      F  1990-11-25         Ghana   \n1  DECISION_TREE  Veronica Breanna French      F  2001-05-26         Ghana   \n2  DECISION_TREE   Darlene Kendra Jackson      F  1978-09-01        Brazil   \n3  DECISION_TREE     Lisa Melissa Russell      F  1990-04-05        Brazil   \n4  DECISION_TREE            Caitlin Moore      F  1973-09-08         Ghana   \n\n  BIRTH_COUNTRY_CODE ... ARRIVAL_AIRPORT_COUNTRY_CODE ARRIVAL_AIRPORT_IATA  \\\n0                 GH ...                           US                  SAT   \n1                 GH ...                           US                  RDU   \n2                 BR ...                           US                  BLV   \n3                 BR ...                           US                  LCK   \n4                 GH ...                           US                  DLF   \n\n  ARRIVAL_AIRPORT_MUNICIPALITY  ARRIVAL_AIRPORT_REGION  \\\n0                  San Antonio                   US-TX   \n1               Raleigh/Durham                   US-NC   \n2                   Belleville                   US-IL   \n3                     Columbus                   US-OH   \n4                      Del Rio                   US-TX   \n\n  DEPARTURE_AIRPORT_COUNTRY_CODE DEPARTURE_AIRPORT_IATA  \\\n0                             FI                    HEL   \n1                             RU                    KJA   \n2                             IE                    ORK   \n3                             RU                    AER   \n4                             CZ                    PRG   \n\n  DEPARTURE_AIRPORT_MUNICIPALITY  DEPARTURE_AIRPORT_REGION  \\\n0                       Helsinki                     FI-ES   \n1                    Krasnoyarsk                    RU-KYA   \n2                           Cork                      IE-C   \n3                          Sochi                    RU-KDA   \n4                         Prague                     CZ-PR   \n\n                                   UUID AGE  \n0  13363a0f-1a5e-4f68-9e53-a9d52845f33b  26  \n1  8c5fb696-09bf-4071-810b-1eef79bcd19f  15  \n2  b0def062-af37-441d-b611-580befa71cc6  38  \n3  96d9f810-42ec-4851-bef8-8919661cb960  26  \n4  93adb238-ba71-4525-95fe-b111e41d57b4  43  \n\n[5 rows x 28 columns]", 
                        "text/html": "<div>\n<table border=\"1\" class=\"dataframe\">\n  <thead>\n    <tr style=\"text-align: right;\">\n      <th></th>\n      <th>INTERNAL_ID</th>\n      <th>VETTING_LEVEL</th>\n      <th>DESCRIPTION</th>\n      <th>VETTING_LEVEL_PREDICTION</th>\n      <th>ALGORITHM_NAME</th>\n      <th>NAME</th>\n      <th>GENDER</th>\n      <th>BIRTH_DATE</th>\n      <th>BIRTH_COUNTRY</th>\n      <th>BIRTH_COUNTRY_CODE</th>\n      <th>...</th>\n      <th>ARRIVAL_AIRPORT_COUNTRY_CODE</th>\n      <th>ARRIVAL_AIRPORT_IATA</th>\n      <th>ARRIVAL_AIRPORT_MUNICIPALITY</th>\n      <th>ARRIVAL_AIRPORT_REGION</th>\n      <th>DEPARTURE_AIRPORT_COUNTRY_CODE</th>\n      <th>DEPARTURE_AIRPORT_IATA</th>\n      <th>DEPARTURE_AIRPORT_MUNICIPALITY</th>\n      <th>DEPARTURE_AIRPORT_REGION</th>\n      <th>UUID</th>\n      <th>AGE</th>\n    </tr>\n  </thead>\n  <tbody>\n    <tr>\n      <th>0</th>\n      <td>363</td>\n      <td>100</td>\n      <td>NA</td>\n      <td>30</td>\n      <td>DECISION_TREE</td>\n      <td>Joyce Valerie Jones</td>\n      <td>F</td>\n      <td>1990-11-25</td>\n      <td>Ghana</td>\n      <td>GH</td>\n      <td>...</td>\n      <td>US</td>\n      <td>SAT</td>\n      <td>San Antonio</td>\n      <td>US-TX</td>\n      <td>FI</td>\n      <td>HEL</td>\n      <td>Helsinki</td>\n      <td>FI-ES</td>\n      <td>13363a0f-1a5e-4f68-9e53-a9d52845f33b</td>\n      <td>26</td>\n    </tr>\n    <tr>\n      <th>1</th>\n      <td>364</td>\n      <td>30</td>\n      <td>NA</td>\n      <td>30</td>\n      <td>DECISION_TREE</td>\n      <td>Veronica Breanna French</td>\n      <td>F</td>\n      <td>2001-05-26</td>\n      <td>Ghana</td>\n      <td>GH</td>\n      <td>...</td>\n      <td>US</td>\n      <td>RDU</td>\n      <td>Raleigh/Durham</td>\n      <td>US-NC</td>\n      <td>RU</td>\n      <td>KJA</td>\n      <td>Krasnoyarsk</td>\n      <td>RU-KYA</td>\n      <td>8c5fb696-09bf-4071-810b-1eef79bcd19f</td>\n      <td>15</td>\n    </tr>\n    <tr>\n      <th>2</th>\n      <td>365</td>\n      <td>10</td>\n      <td>NA</td>\n      <td>30</td>\n      <td>DECISION_TREE</td>\n      <td>Darlene Kendra Jackson</td>\n      <td>F</td>\n      <td>1978-09-01</td>\n      <td>Brazil</td>\n      <td>BR</td>\n      <td>...</td>\n      <td>US</td>\n      <td>BLV</td>\n      <td>Belleville</td>\n      <td>US-IL</td>\n      <td>IE</td>\n      <td>ORK</td>\n      <td>Cork</td>\n      <td>IE-C</td>\n      <td>b0def062-af37-441d-b611-580befa71cc6</td>\n      <td>38</td>\n    </tr>\n    <tr>\n      <th>3</th>\n      <td>366</td>\n      <td>30</td>\n      <td>NA</td>\n      <td>30</td>\n      <td>DECISION_TREE</td>\n      <td>Lisa Melissa Russell</td>\n      <td>F</td>\n      <td>1990-04-05</td>\n      <td>Brazil</td>\n      <td>BR</td>\n      <td>...</td>\n      <td>US</td>\n      <td>LCK</td>\n      <td>Columbus</td>\n      <td>US-OH</td>\n      <td>RU</td>\n      <td>AER</td>\n      <td>Sochi</td>\n      <td>RU-KDA</td>\n      <td>96d9f810-42ec-4851-bef8-8919661cb960</td>\n      <td>26</td>\n    </tr>\n    <tr>\n      <th>4</th>\n      <td>367</td>\n      <td>100</td>\n      <td>NA</td>\n      <td>100</td>\n      <td>DECISION_TREE</td>\n      <td>Caitlin Moore</td>\n      <td>F</td>\n      <td>1973-09-08</td>\n      <td>Ghana</td>\n      <td>GH</td>\n      <td>...</td>\n      <td>US</td>\n      <td>DLF</td>\n      <td>Del Rio</td>\n      <td>US-TX</td>\n      <td>CZ</td>\n      <td>PRG</td>\n      <td>Prague</td>\n      <td>CZ-PR</td>\n      <td>93adb238-ba71-4525-95fe-b111e41d57b4</td>\n      <td>43</td>\n    </tr>\n  </tbody>\n</table>\n<p>5 rows \u00d7 28 columns</p>\n</div>"
                    }, 
                    "output_type": "execute_result", 
                    "metadata": {}
                }
            ], 
            "metadata": {
                "scrolled": true
            }, 
            "cell_type": "code"
        }, 
        {
            "source": "### Query the trafficking table so that we get the vetting_level and the number of times that vetting_level appears in the trafficking table, ordered by the vetting_level<br>\n<div class=\"panel-group\" id=\"accordion-13\">\n  <div class=\"panel panel-default\">\n    <div class=\"panel-heading\">\n      <h4 class=\"panel-title\"><a data-toggle=\"collapse\" data-parent=\"#accordion-13\" href=\"#collapse1-13\">Hint 1</a></h4>\n    </div>\n    <div id=\"collapse1-13\" class=\"panel-collapse collapse\">\n      <div class=\"panel-body\">\n      \nIt is similar to:\n\n<pre>\n<resource>.ida_query('SELECT EMPLOYEE_KEY, COUNT(&#42;) AS COUNT FROM GOSALESDW.EMP_EXPENSE_FACT GROUP BY EMPLOYEE_KEY ORDER BY COUNT DESC LIMIT 10')\n</pre>\n      \n      </div>\n    </div>\n  </div>\n  <div class=\"panel panel-default\">\n    <div class=\"panel-heading\">\n      <h4 class=\"panel-title\"><a data-toggle=\"collapse\" data-parent=\"#accordion-13\" href=\"#collapse2-13\">Hint 2</a></h4>\n    </div>\n    <div id=\"collapse2-13\" class=\"panel-collapse collapse\">\n      <div class=\"panel-body\">\n      \nThe SQL query is:\n\n<pre>\n'SELECT VETTING_LEVEL, COUNT(&#42;) AS COUNT FROM ' + trafficking_table + ' GROUP BY VETTING_LEVEL ORDER BY VETTING_LEVEL'\n</pre>\n      \n      </div>\n    </div>\n  </div>\n  <div class=\"panel panel-default\">\n    <div class=\"panel-heading\">\n      <h4 class=\"panel-title\"><a data-toggle=\"collapse\" data-parent=\"#accordion-13\" href=\"#collapse3-13\">Solution 1</a></h4>\n    </div>\n    <div id=\"collapse3-13\" class=\"panel-collapse collapse\">\n      <div class=\"panel-body\">\n      \n<pre>\nidadb.ida_query('SELECT VETTING_LEVEL, COUNT(&#42;) AS COUNT FROM ' + trafficking_df.name + ' GROUP BY VETTING_LEVEL ORDER BY VETTING_LEVEL')\n</pre>\n\n      </div>\n    </div>\n  </div>\n    <div class=\"panel panel-default\">\n    <div class=\"panel-heading\">\n      <h4 class=\"panel-title\"><a data-toggle=\"collapse\" data-parent=\"#accordion-13\" href=\"#collapse3-14\">Solution 2</a></h4>\n    </div>\n    <div id=\"collapse3-14\" class=\"panel-collapse collapse\">\n      <div class=\"panel-body\">\n      \n<pre>\ntrafficking_df.ida_query('SELECT VETTING_LEVEL, COUNT(&#42;) AS COUNT FROM ' + trafficking_df.name + ' GROUP BY VETTING_LEVEL ORDER BY VETTING_LEVEL')\n</pre>\n\n      </div>\n    </div>\n  </div>\n</div>\n", 
            "metadata": {}, 
            "cell_type": "markdown"
        }, 
        {
            "execution_count": 39, 
            "source": "# Enter query here\nidadb.ida_query('SELECT VETTING_LEVEL, COUNT(*) AS COUNT FROM ' + trafficking_df.name + ' GROUP BY VETTING_LEVEL ORDER BY VETTING_LEVEL')", 
            "outputs": [
                {
                    "execution_count": 39, 
                    "data": {
                        "text/plain": "   vetting_level  count\n0             10   42.0\n1             20   40.0\n2             30   96.0\n3            100  907.0", 
                        "text/html": "<div>\n<table border=\"1\" class=\"dataframe\">\n  <thead>\n    <tr style=\"text-align: right;\">\n      <th></th>\n      <th>vetting_level</th>\n      <th>count</th>\n    </tr>\n  </thead>\n  <tbody>\n    <tr>\n      <th>0</th>\n      <td>10</td>\n      <td>42.0</td>\n    </tr>\n    <tr>\n      <th>1</th>\n      <td>20</td>\n      <td>40.0</td>\n    </tr>\n    <tr>\n      <th>2</th>\n      <td>30</td>\n      <td>96.0</td>\n    </tr>\n    <tr>\n      <th>3</th>\n      <td>100</td>\n      <td>907.0</td>\n    </tr>\n  </tbody>\n</table>\n</div>"
                    }, 
                    "output_type": "execute_result", 
                    "metadata": {}
                }
            ], 
            "metadata": {}, 
            "cell_type": "code"
        }, 
        {
            "source": "<a id=\"Close-the-database-connection\"></a>\n## Close the database connection\n\nTo ensure expected behaviors, IdaDataBase instances need to be closed.\n\n__Note__: Closing the *IdaDataBase* is equivalent to closing the connection: once the connection is closed, it is no longer possible to use the *IdaDataBase* instance and any *IdaDataFrame* instances that were opened on this connection.", 
            "metadata": {}, 
            "cell_type": "markdown"
        }, 
        {
            "execution_count": 40, 
            "source": "idadb.close()", 
            "outputs": [
                {
                    "name": "stdout", 
                    "output_type": "stream", 
                    "text": "Connection closed.\n"
                }
            ], 
            "metadata": {}, 
            "cell_type": "code"
        }, 
        {
            "source": "<a id=\"Share\"></a>\n## Share the notebook\nYou can share a notebook by selecting the Share icon.<br>\n<img alt=\"IBM Bluemix.Get started now\" src=\"https://raw.githubusercontent.com/jpatter/DSX/master/Lab-1/images/share-button.png\" ><br>\nThis displays a Share Notebook popup which gives the user a link which can can be sent to other users.   Anyone with the link will see the most recent version of the notebook.   The user can determine what level of notebook information will be shared.\n<img alt=\"IBM Bluemix.Get started now\" src=\"https://raw.githubusercontent.com/jpatter/DSX/master/Lab-1/images/Share-Window.PNG\" ><br>", 
            "metadata": {}, 
            "cell_type": "markdown"
        }, 
        {
            "source": "<a id=\"GitHub\"></a>\n## Publish the notebook to gist/GitHub\n\nSelect the Github/Gist integration icon from the command bar (it looks like an open box with an arrow pointing up).<br>\n<img alt=\"IBM Bluemix.Get started now\" src=\"https://raw.githubusercontent.com/jpatter/DSX/master/Lab-1/images/github-button.png\" ><br>\n\nIf you wish to publish to a gist, nothing more is needed.   However, if you want to publish to github, you will need a security token.\n\nSelect Publish on GitHub<br>\n<img alt=\"IBM Bluemix.Get started now\" src=\"https://raw.githubusercontent.com/jpatter/DSX/master/Lab-1/images/NoGitHub.PNG\" ><br>\nYou will get a popup stating that you need to set a token in your account settings.   This can be reached by selecting the account settings link in the popup or by selecting your personal icon (upper right hand corner) and selecting settings.\n\n<img alt=\"IBM Bluemix.Get started now\" src=\"https://raw.githubusercontent.com/jpatter/DSX/master/Lab-1/images/Profile.PNG\" ><br>\nIn the Profile settings page select Integrations and paste your github token there.   \n\n<img alt=\"IBM Bluemix.Get started now\" src=\"https://raw.githubusercontent.com/jpatter/DSX/master/Lab-1/images/Integrations.PNG\" ><br>\nI have provided one for you should you wish to try this which uses the account at http://github.com/dsxspare3/DSX-Demo\n\nI broke it into two pieces because otherwise github will delete it when publishing to github because it is a valid token.   Paste them together when putting in the github token in DSX.\n\nPart 1: 8e8ff3b15d92438fc4  Part 2: a2a0aad611310d2562d8b5\n\nFinally, you need to add the URL for the GitHub in the Settings section of your project.\n\n<img alt=\"IBM Bluemix.Get started now\" src=\"https://raw.githubusercontent.com/jpatter/DSX/master/Lab-1/images/ProjectSettings.PNG\" ><br>\n\n<img alt=\"IBM Bluemix.Get started now\" src=\"https://raw.githubusercontent.com/jpatter/DSX/master/Lab-1/images/GitHubURL.PNG\" ><br>\n\nYou should now be able to publish to GitHub for this project.   When publishing, you are asked for the path to save.   Since all users will be using the same GitHub I suggest publishing to a folder with your username.", 
            "metadata": {}, 
            "cell_type": "markdown"
        }, 
        {
            "source": "<a id=\"Help\"></a>\n## Get Help\n\nSelect the icon in the lower right corner \n<img alt=\"IBM Bluemix.Get started now\" src=\"https://raw.githubusercontent.com/jpatter/DSX/master/Lab-1/images/Help-Icon.PNG\"/>\nto display a help window connecting to IBM DSX Support.\n<img alt=\"IBM Bluemix.Get started now\" src=\"https://raw.githubusercontent.com/jpatter/DSX/master/Lab-1/images/Help-Window.PNG\"/>", 
            "metadata": {}, 
            "cell_type": "markdown"
        }, 
        {
            "source": "<a id=\"Summary\"></a>\n## Summary\n\nThis notebook demonstrated how to establish a JDBC connection to a DB2 Warehouse (or DB2) database from Python, work with data frames and explore the data using SQL and data frame object attributes and methods.", 
            "metadata": {}, 
            "cell_type": "markdown"
        }, 
        {
            "source": "## Take it farther\n### Free courses on <a href=\"https://cognitiveclass.ai/courses/?utm_source=tutorial-dashdb-python&utm_medium=github&utm_campaign=bdu/\" rel=\"noopener noreferrer\" target=\"_blank\">Cognitive Class.ai</a>: <a href=\"https://bigdatauniversity.com/courses/?utm_source=tutorial-dashdb-python&utm_medium=github&utm_campaign=bdu\" rel=\"noopener noreferrer\" target=\"_blank\"><img src = \"https://ibm.box.com/shared/static/xomeu7dacwufkoawbg3owc8wzuezltn6.png\" width=600px> </a>", 
            "metadata": {}, 
            "cell_type": "markdown"
        }, 
        {
            "execution_count": null, 
            "source": "", 
            "outputs": [], 
            "metadata": {
                "collapsed": true
            }, 
            "cell_type": "code"
        }
    ]
}